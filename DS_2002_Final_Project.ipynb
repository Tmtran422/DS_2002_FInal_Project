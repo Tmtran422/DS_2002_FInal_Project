{
  "cells": [
    {
      "cell_type": "markdown",
      "source": [
        "## Final Project DS 2002\n",
        "#### Tuan-Minh Tran"
      ],
      "metadata": {
        "id": "dcBOjgda7atL"
      }
    },
    {
      "cell_type": "markdown",
      "source": [
        "Data being used from sakila database"
      ],
      "metadata": {
        "id": "1jexrt4p78xJ"
      }
    },
    {
      "cell_type": "markdown",
      "source": [
        "### 1.0. Import Required Libraries"
      ],
      "metadata": {
        "id": "q2ju83Yb8Fc7"
      }
    },
    {
      "cell_type": "code",
      "execution_count": null,
      "metadata": {
        "application/vnd.databricks.v1+cell": {
          "cellMetadata": {
            "byteLimit": 2048000,
            "rowLimit": 10000
          },
          "inputWidgets": {},
          "nuid": "ef2d8fb0-7d36-470d-93f1-e4ace739c366",
          "showTitle": false,
          "title": ""
        },
        "id": "HxDDJXl2zPID"
      },
      "outputs": [],
      "source": [
        "import os\n",
        "import json\n",
        "import pymongo\n",
        "import pyspark.pandas as pd  # This uses Koalas that is included in PySpark version 3.2 or newer.\n",
        "from pyspark.sql.functions import col\n",
        "from pyspark.sql.types import StructType, StructField, StringType, TimestampType, BinaryType\n",
        "from pyspark.sql.types import ByteType, ShortType, IntegerType, LongType, FloatType, DecimalType"
      ]
    },
    {
      "cell_type": "markdown",
      "source": [
        "### Instantiate Global Variables"
      ],
      "metadata": {
        "id": "g01vXL7k8K4Q"
      }
    },
    {
      "cell_type": "code",
      "execution_count": null,
      "metadata": {
        "application/vnd.databricks.v1+cell": {
          "cellMetadata": {
            "byteLimit": 2048000,
            "rowLimit": 10000
          },
          "inputWidgets": {},
          "nuid": "52cadc62-9b82-4420-8ce8-a6e7c94822bf",
          "showTitle": false,
          "title": ""
        },
        "id": "iwjlKKtKzPII"
      },
      "outputs": [],
      "source": [
        "# Azure MySQL Server Connection Information ###################\n",
        "jdbc_hostname = \"bat3pf.mysql.database.azure.com\"\n",
        "jdbc_port = 3306\n",
        "src_database = \"sakila\" ## i used the sakila database\n",
        "\n",
        "connection_properties = {\n",
        "  \"user\" : \"bat3pf\",\n",
        "  \"password\" : \"Okmijn1u!321\",\n",
        "  \"driver\" : \"org.mariadb.jdbc.Driver\"\n",
        "}\n",
        "\n",
        "# MongoDB Atlas Connection Information ########################\n",
        "atlas_cluster_name = \"cluster0.qazws\"\n",
        "atlas_database_name = \"sakila\"\n",
        "atlas_user_name = \"bat3pf\"\n",
        "atlas_password = \"Okmijn1u!321\"\n",
        "\n",
        "# Data Files (JSON) Information ###############################\n",
        "dst_database = \"sakila_dlh\"\n",
        "\n",
        "base_dir = \"dbfs:/FileStore/lab_data\"\n",
        "database_dir = f\"{base_dir}/{dst_database}\"\n",
        "\n",
        "data_dir = f\"{base_dir}/final_data\"\n",
        "batch_dir = f\"{data_dir}/batch\"\n",
        "stream_dir = f\"{data_dir}/stream\"\n",
        "\n",
        "rentals_stream_dir = f\"{stream_dir}/rentals\"\n",
        "\n",
        "rentals_output_bronze = f\"{database_dir}/fact_rentals/bronze\"\n",
        "rentals_output_silver = f\"{database_dir}/fact_rentals/silver\"\n",
        "rentals_output_gold   = f\"{database_dir}/fact_rentals/gold\"\n",
        "\n",
        "#dbutils.fs.rm(f\"{database_dir}/fact_rentals\", True)\n",
        "#dbutils.fs.rm(database_dir, True)"
      ]
    },
    {
      "cell_type": "code",
      "execution_count": null,
      "metadata": {
        "application/vnd.databricks.v1+cell": {
          "cellMetadata": {
            "byteLimit": 2048000,
            "rowLimit": 10000
          },
          "inputWidgets": {},
          "nuid": "001454ef-58fa-4c7b-9e16-72b3475c0d32",
          "showTitle": false,
          "title": ""
        },
        "id": "Yl6p7cv8zPIJ"
      },
      "outputs": [],
      "source": [
        "# ######################################################################################################################\n",
        "# Use this Function to Fetch a DataFrame from the MongoDB Atlas database server Using PyMongo.\n",
        "# ######################################################################################################################\n",
        "def get_mongo_dataframe(user_id, pwd, cluster_name, db_name, collection, conditions, projection, sort):\n",
        "    '''Create a client connection to MongoDB'''\n",
        "    mongo_uri = f\"mongodb+srv://{user_id}:{pwd}@{cluster_name}.mongodb.net/{db_name}\"\n",
        "\n",
        "    client = pymongo.MongoClient(mongo_uri)\n",
        "\n",
        "    '''Query MongoDB, and fill a python list with documents to create a DataFrame'''\n",
        "    db = client[db_name]\n",
        "    if conditions and projection and sort:\n",
        "        dframe = pd.DataFrame(list(db[collection].find(conditions, projection).sort(sort)))\n",
        "    elif conditions and projection and not sort:\n",
        "        dframe = pd.DataFrame(list(db[collection].find(conditions, projection)))\n",
        "    else:\n",
        "        dframe = pd.DataFrame(list(db[collection].find()))\n",
        "\n",
        "    client.close()\n",
        "\n",
        "    return dframe\n",
        "\n",
        "# ######################################################################################################################\n",
        "# Use this Function to Create New Collections by Uploading JSON file(s) to the MongoDB Atlas server.\n",
        "# ######################################################################################################################\n",
        "def set_mongo_collection(user_id, pwd, cluster_name, db_name, src_file_path, json_files):\n",
        "    '''Create a client connection to MongoDB'''\n",
        "    mongo_uri = f\"mongodb+srv://{user_id}:{pwd}@{cluster_name}.mongodb.net/{db_name}\"\n",
        "    client = pymongo.MongoClient(mongo_uri)\n",
        "    db = client[db_name]\n",
        "\n",
        "    '''Read in a JSON file, and Use It to Create a New Collection'''\n",
        "    for file in json_files:\n",
        "        db.drop_collection(file)\n",
        "        json_file = os.path.join(src_file_path, json_files[file])\n",
        "        with open(json_file, 'r') as openfile:\n",
        "            json_object = json.load(openfile)\n",
        "            file = db[file]\n",
        "            result = file.insert_many(json_object)\n",
        "\n",
        "    client.close()\n",
        "\n",
        "    return result"
      ]
    },
    {
      "cell_type": "markdown",
      "metadata": {
        "application/vnd.databricks.v1+cell": {
          "cellMetadata": {},
          "inputWidgets": {},
          "nuid": "f0713794-05d2-4cdc-93ae-aa50c550cda4",
          "showTitle": false,
          "title": ""
        },
        "id": "HntMlBeqzPIL"
      },
      "source": [
        "### Populate Dimensions by Ingesting Reference (Cold-path) Data\n",
        "#### Fetch Reference Data From an Azure MySQL Database\n",
        "##### Create a New Databricks Metadata Database."
      ]
    },
    {
      "cell_type": "code",
      "execution_count": null,
      "metadata": {
        "application/vnd.databricks.v1+cell": {
          "cellMetadata": {
            "byteLimit": 2048000,
            "implicitDf": true,
            "rowLimit": 10000
          },
          "inputWidgets": {},
          "nuid": "cfb591c6-4f32-4a39-aed8-39366147ca3d",
          "showTitle": false,
          "title": ""
        },
        "id": "GAtQwhXszPIN",
        "outputId": "6a4a9f80-1e9e-4b9e-c51e-31056d264e88"
      },
      "outputs": [
        {
          "output_type": "display_data",
          "data": {
            "text/html": [
              "<style scoped>\n",
              "  .table-result-container {\n",
              "    max-height: 300px;\n",
              "    overflow: auto;\n",
              "  }\n",
              "  table, th, td {\n",
              "    border: 1px solid black;\n",
              "    border-collapse: collapse;\n",
              "  }\n",
              "  th, td {\n",
              "    padding: 5px;\n",
              "  }\n",
              "  th {\n",
              "    text-align: left;\n",
              "  }\n",
              "</style><div class='table-result-container'><table class='table-result'><thead style='background-color: white'><tr></tr></thead><tbody></tbody></table></div>"
            ]
          },
          "metadata": {
            "application/vnd.databricks.v1+output": {
              "addedWidgets": {},
              "aggData": [],
              "aggError": "",
              "aggOverflow": false,
              "aggSchema": [],
              "aggSeriesLimitReached": false,
              "aggType": "",
              "arguments": {},
              "columnCustomDisplayInfos": {},
              "data": [],
              "datasetInfos": [],
              "dbfsResultPath": null,
              "isJsonSchema": true,
              "metadata": {},
              "overflow": false,
              "plotOptions": {
                "customPlotOptions": {},
                "displayType": "table",
                "pivotAggregation": null,
                "pivotColumns": null,
                "xColumns": null,
                "yColumns": null
              },
              "removedWidgets": [],
              "schema": [],
              "type": "table"
            }
          }
        }
      ],
      "source": [
        "%sql\n",
        "DROP DATABASE IF EXISTS sakila_dlh CASCADE;"
      ]
    },
    {
      "cell_type": "code",
      "execution_count": null,
      "metadata": {
        "application/vnd.databricks.v1+cell": {
          "cellMetadata": {
            "byteLimit": 2048000,
            "implicitDf": true,
            "rowLimit": 10000
          },
          "inputWidgets": {},
          "nuid": "ad0db426-9c3e-451e-a6a2-9cef711db5e8",
          "showTitle": false,
          "title": ""
        },
        "id": "4l_BVeWlzPIQ",
        "outputId": "7815d554-49d2-430a-b702-6287554f3a24"
      },
      "outputs": [
        {
          "output_type": "display_data",
          "data": {
            "text/html": [
              "<style scoped>\n",
              "  .table-result-container {\n",
              "    max-height: 300px;\n",
              "    overflow: auto;\n",
              "  }\n",
              "  table, th, td {\n",
              "    border: 1px solid black;\n",
              "    border-collapse: collapse;\n",
              "  }\n",
              "  th, td {\n",
              "    padding: 5px;\n",
              "  }\n",
              "  th {\n",
              "    text-align: left;\n",
              "  }\n",
              "</style><div class='table-result-container'><table class='table-result'><thead style='background-color: white'><tr></tr></thead><tbody></tbody></table></div>"
            ]
          },
          "metadata": {
            "application/vnd.databricks.v1+output": {
              "addedWidgets": {},
              "aggData": [],
              "aggError": "",
              "aggOverflow": false,
              "aggSchema": [],
              "aggSeriesLimitReached": false,
              "aggType": "",
              "arguments": {},
              "columnCustomDisplayInfos": {},
              "data": [],
              "datasetInfos": [],
              "dbfsResultPath": null,
              "isJsonSchema": true,
              "metadata": {},
              "overflow": false,
              "plotOptions": {
                "customPlotOptions": {},
                "displayType": "table",
                "pivotAggregation": null,
                "pivotColumns": null,
                "xColumns": null,
                "yColumns": null
              },
              "removedWidgets": [],
              "schema": [],
              "type": "table"
            }
          }
        }
      ],
      "source": [
        "%sql\n",
        "CREATE DATABASE IF NOT EXISTS sakila_dlh\n",
        "COMMENT \"DS-2002 Final Project Database\"\n",
        "LOCATION \"dbfs:/FileStore/lab_data/sakila_dlh\"\n",
        "WITH DBPROPERTIES (contains_pii = true, purpose = \"DS-2002 Final Project\");"
      ]
    },
    {
      "cell_type": "markdown",
      "source": [
        "### Create a New Table that Sources Date Dimension Data from a Table in an Azure MySQL database."
      ],
      "metadata": {
        "id": "SEYUZQRk-512"
      }
    },
    {
      "cell_type": "code",
      "execution_count": null,
      "metadata": {
        "application/vnd.databricks.v1+cell": {
          "cellMetadata": {
            "byteLimit": 2048000,
            "implicitDf": true,
            "rowLimit": 10000
          },
          "inputWidgets": {},
          "nuid": "8b211b14-d86b-4209-a582-6a37b323ce80",
          "showTitle": false,
          "title": ""
        },
        "id": "Cj9HEZJuzPIQ",
        "outputId": "a36d15ca-c80e-4ab6-8080-80828678bfd3"
      },
      "outputs": [
        {
          "output_type": "display_data",
          "data": {
            "text/html": [
              "<style scoped>\n",
              "  .table-result-container {\n",
              "    max-height: 300px;\n",
              "    overflow: auto;\n",
              "  }\n",
              "  table, th, td {\n",
              "    border: 1px solid black;\n",
              "    border-collapse: collapse;\n",
              "  }\n",
              "  th, td {\n",
              "    padding: 5px;\n",
              "  }\n",
              "  th {\n",
              "    text-align: left;\n",
              "  }\n",
              "</style><div class='table-result-container'><table class='table-result'><thead style='background-color: white'><tr></tr></thead><tbody></tbody></table></div>"
            ]
          },
          "metadata": {
            "application/vnd.databricks.v1+output": {
              "addedWidgets": {},
              "aggData": [],
              "aggError": "",
              "aggOverflow": false,
              "aggSchema": [],
              "aggSeriesLimitReached": false,
              "aggType": "",
              "arguments": {},
              "columnCustomDisplayInfos": {},
              "data": [],
              "datasetInfos": [],
              "dbfsResultPath": null,
              "isJsonSchema": true,
              "metadata": {},
              "overflow": false,
              "plotOptions": {
                "customPlotOptions": {},
                "displayType": "table",
                "pivotAggregation": null,
                "pivotColumns": null,
                "xColumns": null,
                "yColumns": null
              },
              "removedWidgets": [],
              "schema": [],
              "type": "table"
            }
          }
        }
      ],
      "source": [
        "%sql\n",
        "CREATE OR REPLACE TEMPORARY VIEW view_date\n",
        "USING org.apache.spark.sql.jdbc\n",
        "OPTIONS (\n",
        "  url \"jdbc:mysql://bat3pf.mysql.database.azure.com:3306/sakila\",\n",
        "  dbtable \"dim_date\",\n",
        "  user \"bat3pf\",\n",
        "  password \"Okmijn1u!321\"\n",
        ")"
      ]
    },
    {
      "cell_type": "code",
      "execution_count": null,
      "metadata": {
        "application/vnd.databricks.v1+cell": {
          "cellMetadata": {
            "byteLimit": 2048000,
            "implicitDf": true,
            "rowLimit": 10000
          },
          "inputWidgets": {},
          "nuid": "98f9ddbc-89a4-4115-92cd-d11f0b452ad2",
          "showTitle": false,
          "title": ""
        },
        "id": "EERcLxARzPIR",
        "outputId": "f1b7d8bf-2968-4341-9d38-69dac1d1a924",
        "collapsed": true
      },
      "outputs": [
        {
          "output_type": "display_data",
          "data": {
            "text/html": [
              "<style scoped>\n",
              "  .table-result-container {\n",
              "    max-height: 300px;\n",
              "    overflow: auto;\n",
              "  }\n",
              "  table, th, td {\n",
              "    border: 1px solid black;\n",
              "    border-collapse: collapse;\n",
              "  }\n",
              "  th, td {\n",
              "    padding: 5px;\n",
              "  }\n",
              "  th {\n",
              "    text-align: left;\n",
              "  }\n",
              "</style><div class='table-result-container'><table class='table-result'><thead style='background-color: white'><tr><th>num_affected_rows</th><th>num_inserted_rows</th></tr></thead><tbody></tbody></table></div>"
            ]
          },
          "metadata": {
            "application/vnd.databricks.v1+output": {
              "addedWidgets": {},
              "aggData": [],
              "aggError": "",
              "aggOverflow": false,
              "aggSchema": [],
              "aggSeriesLimitReached": false,
              "aggType": "",
              "arguments": {},
              "columnCustomDisplayInfos": {},
              "data": [],
              "datasetInfos": [],
              "dbfsResultPath": null,
              "isJsonSchema": true,
              "metadata": {},
              "overflow": false,
              "plotOptions": {
                "customPlotOptions": {},
                "displayType": "table",
                "pivotAggregation": null,
                "pivotColumns": null,
                "xColumns": null,
                "yColumns": null
              },
              "removedWidgets": [],
              "schema": [
                {
                  "metadata": "{}",
                  "name": "num_affected_rows",
                  "type": "\"long\""
                },
                {
                  "metadata": "{}",
                  "name": "num_inserted_rows",
                  "type": "\"long\""
                }
              ],
              "type": "table"
            }
          }
        }
      ],
      "source": [
        "%sql\n",
        "USE DATABASE sakila_dlh;\n",
        "\n",
        "CREATE OR REPLACE TABLE sakila_dlh.dim_date\n",
        "COMMENT \"Date Dimension Table\"\n",
        "LOCATION \"dbfs:/FileStore/lab_data/sakila_dlh/dim_date\"\n",
        "AS SELECT * FROM view_date"
      ]
    },
    {
      "cell_type": "code",
      "source": [
        "%sql\n",
        "SELECT * FROM sakila_dlh.dim_date LIMIT 5"
      ],
      "metadata": {
        "id": "6rJZwxUOMQ8k"
      },
      "execution_count": null,
      "outputs": []
    },
    {
      "cell_type": "code",
      "execution_count": null,
      "metadata": {
        "application/vnd.databricks.v1+cell": {
          "cellMetadata": {
            "byteLimit": 2048000,
            "implicitDf": true,
            "rowLimit": 10000
          },
          "inputWidgets": {},
          "nuid": "519f8a9e-c8d9-4023-86fb-de6609e7b1a8",
          "showTitle": false,
          "title": ""
        },
        "id": "kEeoGMlpzPIW",
        "outputId": "ebbd350e-0f68-4ad0-b24e-86c424a518f7"
      },
      "outputs": [
        {
          "output_type": "display_data",
          "data": {
            "text/html": [
              "<style scoped>\n",
              "  .table-result-container {\n",
              "    max-height: 300px;\n",
              "    overflow: auto;\n",
              "  }\n",
              "  table, th, td {\n",
              "    border: 1px solid black;\n",
              "    border-collapse: collapse;\n",
              "  }\n",
              "  th, td {\n",
              "    padding: 5px;\n",
              "  }\n",
              "  th {\n",
              "    text-align: left;\n",
              "  }\n",
              "</style><div class='table-result-container'><table class='table-result'><thead style='background-color: white'><tr></tr></thead><tbody></tbody></table></div>"
            ]
          },
          "metadata": {
            "application/vnd.databricks.v1+output": {
              "addedWidgets": {},
              "aggData": [],
              "aggError": "",
              "aggOverflow": false,
              "aggSchema": [],
              "aggSeriesLimitReached": false,
              "aggType": "",
              "arguments": {},
              "columnCustomDisplayInfos": {},
              "data": [],
              "datasetInfos": [],
              "dbfsResultPath": null,
              "isJsonSchema": true,
              "metadata": {},
              "overflow": false,
              "plotOptions": {
                "customPlotOptions": {},
                "displayType": "table",
                "pivotAggregation": null,
                "pivotColumns": null,
                "xColumns": null,
                "yColumns": null
              },
              "removedWidgets": [],
              "schema": [],
              "type": "table"
            }
          }
        }
      ],
      "source": [
        "%sql\n",
        "CREATE OR REPLACE TEMPORARY VIEW view_inventory\n",
        "USING org.apache.spark.sql.jdbc\n",
        "OPTIONS (\n",
        "  url \"jdbc:mysql://bat3pf.mysql.database.azure.com:3306/sakila\",\n",
        "  dbtable \"inventory\",\n",
        "  user \"bat3pf\",\n",
        "  password \"Okmijn1u!321\"\n",
        ")"
      ]
    },
    {
      "cell_type": "code",
      "execution_count": null,
      "metadata": {
        "application/vnd.databricks.v1+cell": {
          "cellMetadata": {
            "byteLimit": 2048000,
            "implicitDf": true,
            "rowLimit": 10000
          },
          "inputWidgets": {},
          "nuid": "420310ef-2f4e-4f08-a782-3498658239bc",
          "showTitle": false,
          "title": ""
        },
        "id": "9csrmvLUzPIX",
        "outputId": "e00809a7-b728-47d0-c7c2-311b439cc8a8"
      },
      "outputs": [
        {
          "output_type": "display_data",
          "data": {
            "text/html": [
              "<style scoped>\n",
              "  .table-result-container {\n",
              "    max-height: 300px;\n",
              "    overflow: auto;\n",
              "  }\n",
              "  table, th, td {\n",
              "    border: 1px solid black;\n",
              "    border-collapse: collapse;\n",
              "  }\n",
              "  th, td {\n",
              "    padding: 5px;\n",
              "  }\n",
              "  th {\n",
              "    text-align: left;\n",
              "  }\n",
              "</style><div class='table-result-container'><table class='table-result'><thead style='background-color: white'><tr><th>num_affected_rows</th><th>num_inserted_rows</th></tr></thead><tbody></tbody></table></div>"
            ]
          },
          "metadata": {
            "application/vnd.databricks.v1+output": {
              "addedWidgets": {},
              "aggData": [],
              "aggError": "",
              "aggOverflow": false,
              "aggSchema": [],
              "aggSeriesLimitReached": false,
              "aggType": "",
              "arguments": {},
              "columnCustomDisplayInfos": {},
              "data": [],
              "datasetInfos": [],
              "dbfsResultPath": null,
              "isJsonSchema": true,
              "metadata": {},
              "overflow": false,
              "plotOptions": {
                "customPlotOptions": {},
                "displayType": "table",
                "pivotAggregation": null,
                "pivotColumns": null,
                "xColumns": null,
                "yColumns": null
              },
              "removedWidgets": [],
              "schema": [
                {
                  "metadata": "{}",
                  "name": "num_affected_rows",
                  "type": "\"long\""
                },
                {
                  "metadata": "{}",
                  "name": "num_inserted_rows",
                  "type": "\"long\""
                }
              ],
              "type": "table"
            }
          }
        }
      ],
      "source": [
        "%sql\n",
        "USE DATABASE sakila_dlh;\n",
        "\n",
        "CREATE OR REPLACE TABLE sakila_dlh.inventory\n",
        "COMMENT \"Payment Table\"\n",
        "COMMENT \"Inventory Dimension Table\"\n",
        "LOCATION \"dbfs:/FileStore/lab_data/sakila_dlh/inventory\"\n",
        "AS SELECT * FROM view_inventory"
      ]
    },
    {
      "cell_type": "code",
      "execution_count": null,
      "metadata": {
        "application/vnd.databricks.v1+cell": {
          "cellMetadata": {
            "byteLimit": 2048000,
            "implicitDf": true,
            "rowLimit": 10000
          },
          "inputWidgets": {},
          "nuid": "eada38f3-e7df-4fb1-8ad4-c6a6dcfdb9d6",
          "showTitle": false,
          "title": ""
        },
        "id": "Ep_8yN-qzPIY",
        "outputId": "cfed0558-f68d-4201-8000-a8743e0ae7ab"
      },
      "outputs": [
        {
          "output_type": "display_data",
          "data": {
            "text/html": [
              "<style scoped>\n",
              "  .table-result-container {\n",
              "    max-height: 300px;\n",
              "    overflow: auto;\n",
              "  }\n",
              "  table, th, td {\n",
              "    border: 1px solid black;\n",
              "    border-collapse: collapse;\n",
              "  }\n",
              "  th, td {\n",
              "    padding: 5px;\n",
              "  }\n",
              "  th {\n",
              "    text-align: left;\n",
              "  }\n",
              "</style><div class='table-result-container'><table class='table-result'><thead style='background-color: white'><tr><th>inventory_id</th><th>film_id</th><th>store_id</th></tr></thead><tbody><tr><td>1</td><td>1</td><td>1</td></tr><tr><td>2</td><td>1</td><td>1</td></tr><tr><td>3</td><td>1</td><td>1</td></tr><tr><td>4</td><td>1</td><td>1</td></tr><tr><td>5</td><td>1</td><td>2</td></tr></tbody></table></div>"
            ]
          },
          "metadata": {
            "application/vnd.databricks.v1+output": {
              "addedWidgets": {},
              "aggData": [],
              "aggError": "",
              "aggOverflow": false,
              "aggSchema": [],
              "aggSeriesLimitReached": false,
              "aggType": "",
              "arguments": {},
              "columnCustomDisplayInfos": {},
              "data": [
                [
                  1,
                  1,
                  1
                ],
                [
                  2,
                  1,
                  1
                ],
                [
                  3,
                  1,
                  1
                ],
                [
                  4,
                  1,
                  1
                ],
                [
                  5,
                  1,
                  2
                ]
              ],
              "datasetInfos": [],
              "dbfsResultPath": null,
              "isJsonSchema": true,
              "metadata": {},
              "overflow": false,
              "plotOptions": {
                "customPlotOptions": {},
                "displayType": "table",
                "pivotAggregation": null,
                "pivotColumns": null,
                "xColumns": null,
                "yColumns": null
              },
              "removedWidgets": [],
              "schema": [
                {
                  "metadata": "{\"scale\":0}",
                  "name": "inventory_id",
                  "type": "\"long\""
                },
                {
                  "metadata": "{\"scale\":0}",
                  "name": "film_id",
                  "type": "\"long\""
                },
                {
                  "metadata": "{\"scale\":0}",
                  "name": "store_id",
                  "type": "\"long\""
                }
              ],
              "type": "table"
            }
          }
        }
      ],
      "source": [
        "%sql\n",
        "SELECT * FROM sakila_dlh.inventory LIMIT 5"
      ]
    },
    {
      "cell_type": "code",
      "source": [
        "%sql\n",
        "CREATE OR REPLACE TEMPORARY VIEW view_customer\n",
        "USING org.apache.spark.sql.jdbc\n",
        "OPTIONS (\n",
        "  url \"jdbc:mysql://bat3pf.mysql.database.azure.com:3306/sakila\",\n",
        "  dbtable \"customer\",\n",
        "  user \"bat3pf\",\n",
        "  password \"Okmijn1u!321\"\n",
        ")"
      ],
      "metadata": {
        "id": "VCs8PZBoD0K_"
      },
      "execution_count": null,
      "outputs": []
    },
    {
      "cell_type": "code",
      "source": [
        "%sql\n",
        "USE DATABASE sakila_dlh;\n",
        "\n",
        "CREATE OR REPLACE TABLE sakila_dlh.customer\n",
        "COMMENT \"Customers Table\"\n",
        "COMMENT \"Inventory Dimension Table\"\n",
        "LOCATION \"dbfs:/FileStore/lab_data/sakila_dlh/inventory\"\n",
        "AS SELECT * FROM view_customer"
      ],
      "metadata": {
        "id": "Qigz6zlZD7pg"
      },
      "execution_count": null,
      "outputs": []
    },
    {
      "cell_type": "code",
      "execution_count": null,
      "metadata": {
        "application/vnd.databricks.v1+cell": {
          "cellMetadata": {
            "byteLimit": 2048000,
            "implicitDf": true,
            "rowLimit": 10000
          },
          "inputWidgets": {},
          "nuid": "e535a04d-6f28-4b07-8156-5c833e24525b",
          "showTitle": false,
          "title": ""
        },
        "id": "cxdymYrbzPIT",
        "outputId": "ba3c788a-fd05-44c2-d81a-f152ba71fe5d"
      },
      "outputs": [
        {
          "output_type": "display_data",
          "data": {
            "text/html": [
              "<style scoped>\n",
              "  .table-result-container {\n",
              "    max-height: 300px;\n",
              "    overflow: auto;\n",
              "  }\n",
              "  table, th, td {\n",
              "    border: 1px solid black;\n",
              "    border-collapse: collapse;\n",
              "  }\n",
              "  th, td {\n",
              "    padding: 5px;\n",
              "  }\n",
              "  th {\n",
              "    text-align: left;\n",
              "  }\n",
              "</style><div class='table-result-container'><table class='table-result'><thead style='background-color: white'><tr><th>col_name</th><th>data_type</th><th>comment</th></tr></thead><tbody><tr><td>date_key</td><td>int</td><td>null</td></tr><tr><td>full_date</td><td>date</td><td>null</td></tr><tr><td>date_name</td><td>string</td><td>null</td></tr><tr><td>date_name_us</td><td>string</td><td>null</td></tr><tr><td>date_name_eu</td><td>string</td><td>null</td></tr><tr><td>day_of_week</td><td>int</td><td>null</td></tr><tr><td>day_name_of_week</td><td>string</td><td>null</td></tr><tr><td>day_of_month</td><td>int</td><td>null</td></tr><tr><td>day_of_year</td><td>int</td><td>null</td></tr><tr><td>weekday_weekend</td><td>string</td><td>null</td></tr><tr><td>week_of_year</td><td>int</td><td>null</td></tr><tr><td>month_name</td><td>string</td><td>null</td></tr><tr><td>month_of_year</td><td>int</td><td>null</td></tr><tr><td>is_last_day_of_month</td><td>string</td><td>null</td></tr><tr><td>calendar_quarter</td><td>int</td><td>null</td></tr><tr><td>calendar_year</td><td>int</td><td>null</td></tr><tr><td>calendar_year_month</td><td>string</td><td>null</td></tr><tr><td>calendar_year_qtr</td><td>string</td><td>null</td></tr><tr><td>fiscal_month_of_year</td><td>int</td><td>null</td></tr><tr><td>fiscal_quarter</td><td>int</td><td>null</td></tr><tr><td>fiscal_year</td><td>int</td><td>null</td></tr><tr><td>fiscal_year_month</td><td>string</td><td>null</td></tr><tr><td>fiscal_year_qtr</td><td>string</td><td>null</td></tr><tr><td></td><td></td><td></td></tr><tr><td># Detailed Table Information</td><td></td><td></td></tr><tr><td>Catalog</td><td>spark_catalog</td><td></td></tr><tr><td>Database</td><td>sakila_dlh</td><td></td></tr><tr><td>Table</td><td>dim_date</td><td></td></tr><tr><td>Type</td><td>EXTERNAL</td><td></td></tr><tr><td>Comment</td><td>Date Dimension Table</td><td></td></tr><tr><td>Location</td><td>dbfs:/FileStore/ds2002-lab06/sakila_dlh/dim_date</td><td></td></tr><tr><td>Provider</td><td>delta</td><td></td></tr><tr><td>Owner</td><td>root</td><td></td></tr><tr><td>Table Properties</td><td>[delta.minReaderVersion=1,delta.minWriterVersion=2]</td><td></td></tr></tbody></table></div>"
            ]
          },
          "metadata": {
            "application/vnd.databricks.v1+output": {
              "addedWidgets": {},
              "aggData": [],
              "aggError": "",
              "aggOverflow": false,
              "aggSchema": [],
              "aggSeriesLimitReached": false,
              "aggType": "",
              "arguments": {},
              "columnCustomDisplayInfos": {},
              "data": [
                [
                  "date_key",
                  "int",
                  null
                ],
                [
                  "full_date",
                  "date",
                  null
                ],
                [
                  "date_name",
                  "string",
                  null
                ],
                [
                  "date_name_us",
                  "string",
                  null
                ],
                [
                  "date_name_eu",
                  "string",
                  null
                ],
                [
                  "day_of_week",
                  "int",
                  null
                ],
                [
                  "day_name_of_week",
                  "string",
                  null
                ],
                [
                  "day_of_month",
                  "int",
                  null
                ],
                [
                  "day_of_year",
                  "int",
                  null
                ],
                [
                  "weekday_weekend",
                  "string",
                  null
                ],
                [
                  "week_of_year",
                  "int",
                  null
                ],
                [
                  "month_name",
                  "string",
                  null
                ],
                [
                  "month_of_year",
                  "int",
                  null
                ],
                [
                  "is_last_day_of_month",
                  "string",
                  null
                ],
                [
                  "calendar_quarter",
                  "int",
                  null
                ],
                [
                  "calendar_year",
                  "int",
                  null
                ],
                [
                  "calendar_year_month",
                  "string",
                  null
                ],
                [
                  "calendar_year_qtr",
                  "string",
                  null
                ],
                [
                  "fiscal_month_of_year",
                  "int",
                  null
                ],
                [
                  "fiscal_quarter",
                  "int",
                  null
                ],
                [
                  "fiscal_year",
                  "int",
                  null
                ],
                [
                  "fiscal_year_month",
                  "string",
                  null
                ],
                [
                  "fiscal_year_qtr",
                  "string",
                  null
                ],
                [
                  "",
                  "",
                  ""
                ],
                [
                  "# Detailed Table Information",
                  "",
                  ""
                ],
                [
                  "Catalog",
                  "spark_catalog",
                  ""
                ],
                [
                  "Database",
                  "sakila_dlh",
                  ""
                ],
                [
                  "Table",
                  "dim_date",
                  ""
                ],
                [
                  "Type",
                  "EXTERNAL",
                  ""
                ],
                [
                  "Comment",
                  "Date Dimension Table",
                  ""
                ],
                [
                  "Location",
                  "dbfs:/FileStore/ds2002-lab06/sakila_dlh/dim_date",
                  ""
                ],
                [
                  "Provider",
                  "delta",
                  ""
                ],
                [
                  "Owner",
                  "root",
                  ""
                ],
                [
                  "Table Properties",
                  "[delta.minReaderVersion=1,delta.minWriterVersion=2]",
                  ""
                ]
              ],
              "datasetInfos": [],
              "dbfsResultPath": null,
              "isJsonSchema": true,
              "metadata": {},
              "overflow": false,
              "plotOptions": {
                "customPlotOptions": {},
                "displayType": "table",
                "pivotAggregation": null,
                "pivotColumns": null,
                "xColumns": null,
                "yColumns": null
              },
              "removedWidgets": [],
              "schema": [
                {
                  "metadata": "{\"comment\":\"name of the column\"}",
                  "name": "col_name",
                  "type": "\"string\""
                },
                {
                  "metadata": "{\"comment\":\"data type of the column\"}",
                  "name": "data_type",
                  "type": "\"string\""
                },
                {
                  "metadata": "{\"comment\":\"comment of the column\"}",
                  "name": "comment",
                  "type": "\"string\""
                }
              ],
              "type": "table"
            }
          }
        }
      ],
      "source": [
        "%sql\n",
        "DESCRIBE EXTENDED sakila_dlh.dim_customer;"
      ]
    },
    {
      "cell_type": "code",
      "source": [
        "%sql\n",
        "SELECT * FROM sakila_dlh.customer LIMIT 5"
      ],
      "metadata": {
        "id": "lAVvY_p9EEjf"
      },
      "execution_count": null,
      "outputs": []
    },
    {
      "cell_type": "markdown",
      "metadata": {
        "application/vnd.databricks.v1+cell": {
          "cellMetadata": {},
          "inputWidgets": {},
          "nuid": "e57236d9-43a0-4846-a61b-fcb9b27ae57c",
          "showTitle": false,
          "title": ""
        },
        "id": "ZhIxThgAzPIZ"
      },
      "source": [
        "#### Create a New Table that Fetches Data from MongoDB Atlas Database"
      ]
    },
    {
      "cell_type": "code",
      "execution_count": null,
      "metadata": {
        "application/vnd.databricks.v1+cell": {
          "cellMetadata": {
            "byteLimit": 2048000,
            "rowLimit": 10000
          },
          "inputWidgets": {},
          "nuid": "63559bc2-c98a-47ef-922b-893b8f40f890",
          "showTitle": false,
          "title": ""
        },
        "id": "7pKunSzSzPIa"
      },
      "outputs": [],
      "source": [
        "display(dbutils.fs.ls(batch_dir))"
      ]
    },
    {
      "cell_type": "code",
      "execution_count": null,
      "metadata": {
        "application/vnd.databricks.v1+cell": {
          "cellMetadata": {
            "byteLimit": 2048000,
            "rowLimit": 10000
          },
          "inputWidgets": {},
          "nuid": "d91f2543-50a1-4f68-afa4-d4cf9e672cd0",
          "showTitle": false,
          "title": ""
        },
        "id": "nZONiZr-zPIb",
        "outputId": "e803446b-5ff3-46fd-d930-95ecf08af562"
      },
      "outputs": [
        {
          "output_type": "stream",
          "name": "stdout",
          "text": [
            "Out[16]: <pymongo.results.InsertManyResult at 0x7fbeb073b980>"
          ]
        }
      ],
      "source": [
        "source_dir = '/dbfs/FileStore/lab_data/final_data/batch'\n",
        "json_files = {\"film\" : 'sakila_film.json'}\n",
        "\n",
        "set_mongo_collection(atlas_user_name, atlas_password, atlas_cluster_name,\n",
        "                     atlas_database_name, source_dir, json_files)"
      ]
    },
    {
      "cell_type": "code",
      "source": [
        "%scala\n",
        "import com.mongodb.spark._\n",
        "\n",
        "val userName = \"bat3pf\"\n",
        "val pwd = \"Okmijn1u!321\"\n",
        "val clusterName = \"cluster0.qazws\"\n",
        "val atlas_uri = \"mongodb+srv://$userName:$pwd@$clusterName.mongodb.net/?retryWrites=true&w=majority\""
      ],
      "metadata": {
        "id": "nWj6VT8e3bjs"
      },
      "execution_count": null,
      "outputs": []
    },
    {
      "cell_type": "code",
      "execution_count": null,
      "metadata": {
        "application/vnd.databricks.v1+cell": {
          "cellMetadata": {
            "byteLimit": 2048000,
            "rowLimit": 10000
          },
          "inputWidgets": {},
          "nuid": "8d0d9898-83b6-4d6e-94d3-06b0996a7b39",
          "showTitle": false,
          "title": ""
        },
        "id": "eBaqkd4MzPIb",
        "outputId": "2d1967dd-ba2b-42ae-f43e-36cd4b6d30c3",
        "collapsed": true
      },
      "outputs": [
        {
          "output_type": "display_data",
          "data": {
            "text/html": [
              "<style scoped>\n",
              "  .table-result-container {\n",
              "    max-height: 300px;\n",
              "    overflow: auto;\n",
              "  }\n",
              "  table, th, td {\n",
              "    border: 1px solid black;\n",
              "    border-collapse: collapse;\n",
              "  }\n",
              "  th, td {\n",
              "    padding: 5px;\n",
              "  }\n",
              "  th {\n",
              "    text-align: left;\n",
              "  }\n",
              "</style><div class='table-result-container'><table class='table-result'><thead style='background-color: white'><tr><th>customer_id</th><th>store_id</th><th>last_name</th><th>first_name</th><th>active</th></tr></thead><tbody><tr><td>1</td><td>1</td><td>SMITH</td><td>MARY</td><td>1</td></tr><tr><td>2</td><td>1</td><td>JOHNSON</td><td>PATRICIA</td><td>1</td></tr><tr><td>3</td><td>1</td><td>WILLIAMS</td><td>LINDA</td><td>1</td></tr><tr><td>4</td><td>2</td><td>JONES</td><td>BARBARA</td><td>1</td></tr><tr><td>5</td><td>1</td><td>BROWN</td><td>ELIZABETH</td><td>1</td></tr><tr><td>6</td><td>2</td><td>DAVIS</td><td>JENNIFER</td><td>1</td></tr><tr><td>7</td><td>1</td><td>MILLER</td><td>MARIA</td><td>1</td></tr><tr><td>8</td><td>2</td><td>WILSON</td><td>SUSAN</td><td>1</td></tr><tr><td>9</td><td>2</td><td>MOORE</td><td>MARGARET</td><td>1</td></tr><tr><td>10</td><td>1</td><td>TAYLOR</td><td>DOROTHY</td><td>1</td></tr><tr><td>11</td><td>2</td><td>ANDERSON</td><td>LISA</td><td>1</td></tr><tr><td>12</td><td>1</td><td>THOMAS</td><td>NANCY</td><td>1</td></tr><tr><td>13</td><td>2</td><td>JACKSON</td><td>KAREN</td><td>1</td></tr><tr><td>14</td><td>2</td><td>WHITE</td><td>BETTY</td><td>1</td></tr><tr><td>15</td><td>1</td><td>HARRIS</td><td>HELEN</td><td>1</td></tr><tr><td>16</td><td>2</td><td>MARTIN</td><td>SANDRA</td><td>0</td></tr><tr><td>17</td><td>1</td><td>THOMPSON</td><td>DONNA</td><td>1</td></tr><tr><td>18</td><td>2</td><td>GARCIA</td><td>CAROL</td><td>1</td></tr><tr><td>19</td><td>1</td><td>MARTINEZ</td><td>RUTH</td><td>1</td></tr><tr><td>20</td><td>2</td><td>ROBINSON</td><td>SHARON</td><td>1</td></tr><tr><td>21</td><td>1</td><td>CLARK</td><td>MICHELLE</td><td>1</td></tr><tr><td>22</td><td>1</td><td>RODRIGUEZ</td><td>LAURA</td><td>1</td></tr><tr><td>23</td><td>2</td><td>LEWIS</td><td>SARAH</td><td>1</td></tr><tr><td>24</td><td>2</td><td>LEE</td><td>KIMBERLY</td><td>1</td></tr><tr><td>25</td><td>1</td><td>WALKER</td><td>DEBORAH</td><td>1</td></tr><tr><td>26</td><td>2</td><td>HALL</td><td>JESSICA</td><td>1</td></tr><tr><td>27</td><td>2</td><td>ALLEN</td><td>SHIRLEY</td><td>1</td></tr><tr><td>28</td><td>1</td><td>YOUNG</td><td>CYNTHIA</td><td>1</td></tr><tr><td>29</td><td>2</td><td>HERNANDEZ</td><td>ANGELA</td><td>1</td></tr><tr><td>30</td><td>1</td><td>KING</td><td>MELISSA</td><td>1</td></tr><tr><td>31</td><td>2</td><td>WRIGHT</td><td>BRENDA</td><td>1</td></tr><tr><td>32</td><td>1</td><td>LOPEZ</td><td>AMY</td><td>1</td></tr><tr><td>33</td><td>2</td><td>HILL</td><td>ANNA</td><td>1</td></tr><tr><td>34</td><td>2</td><td>SCOTT</td><td>REBECCA</td><td>1</td></tr><tr><td>35</td><td>2</td><td>GREEN</td><td>VIRGINIA</td><td>1</td></tr><tr><td>36</td><td>2</td><td>ADAMS</td><td>KATHLEEN</td><td>1</td></tr><tr><td>37</td><td>1</td><td>BAKER</td><td>PAMELA</td><td>1</td></tr><tr><td>38</td><td>1</td><td>GONZALEZ</td><td>MARTHA</td><td>1</td></tr><tr><td>39</td><td>1</td><td>NELSON</td><td>DEBRA</td><td>1</td></tr><tr><td>40</td><td>2</td><td>CARTER</td><td>AMANDA</td><td>1</td></tr><tr><td>41</td><td>1</td><td>MITCHELL</td><td>STEPHANIE</td><td>1</td></tr><tr><td>42</td><td>2</td><td>PEREZ</td><td>CAROLYN</td><td>1</td></tr><tr><td>43</td><td>2</td><td>ROBERTS</td><td>CHRISTINE</td><td>1</td></tr><tr><td>44</td><td>1</td><td>TURNER</td><td>MARIE</td><td>1</td></tr><tr><td>45</td><td>1</td><td>PHILLIPS</td><td>JANET</td><td>1</td></tr><tr><td>46</td><td>2</td><td>CAMPBELL</td><td>CATHERINE</td><td>1</td></tr><tr><td>47</td><td>1</td><td>PARKER</td><td>FRANCES</td><td>1</td></tr><tr><td>48</td><td>1</td><td>EVANS</td><td>ANN</td><td>1</td></tr><tr><td>49</td><td>2</td><td>EDWARDS</td><td>JOYCE</td><td>1</td></tr><tr><td>50</td><td>1</td><td>COLLINS</td><td>DIANE</td><td>1</td></tr><tr><td>51</td><td>1</td><td>STEWART</td><td>ALICE</td><td>1</td></tr><tr><td>52</td><td>1</td><td>SANCHEZ</td><td>JULIE</td><td>1</td></tr><tr><td>53</td><td>1</td><td>MORRIS</td><td>HEATHER</td><td>1</td></tr><tr><td>54</td><td>1</td><td>ROGERS</td><td>TERESA</td><td>1</td></tr><tr><td>55</td><td>2</td><td>REED</td><td>DORIS</td><td>1</td></tr><tr><td>56</td><td>1</td><td>COOK</td><td>GLORIA</td><td>1</td></tr><tr><td>57</td><td>2</td><td>MORGAN</td><td>EVELYN</td><td>1</td></tr><tr><td>58</td><td>1</td><td>BELL</td><td>JEAN</td><td>1</td></tr><tr><td>59</td><td>1</td><td>MURPHY</td><td>CHERYL</td><td>1</td></tr><tr><td>60</td><td>1</td><td>BAILEY</td><td>MILDRED</td><td>1</td></tr><tr><td>61</td><td>2</td><td>RIVERA</td><td>KATHERINE</td><td>1</td></tr><tr><td>62</td><td>1</td><td>COOPER</td><td>JOAN</td><td>1</td></tr><tr><td>63</td><td>1</td><td>RICHARDSON</td><td>ASHLEY</td><td>1</td></tr><tr><td>64</td><td>2</td><td>COX</td><td>JUDITH</td><td>0</td></tr><tr><td>65</td><td>2</td><td>HOWARD</td><td>ROSE</td><td>1</td></tr><tr><td>66</td><td>2</td><td>WARD</td><td>JANICE</td><td>1</td></tr><tr><td>67</td><td>1</td><td>TORRES</td><td>KELLY</td><td>1</td></tr><tr><td>68</td><td>1</td><td>PETERSON</td><td>NICOLE</td><td>1</td></tr><tr><td>69</td><td>2</td><td>GRAY</td><td>JUDY</td><td>1</td></tr><tr><td>70</td><td>2</td><td>RAMIREZ</td><td>CHRISTINA</td><td>1</td></tr><tr><td>71</td><td>1</td><td>JAMES</td><td>KATHY</td><td>1</td></tr><tr><td>72</td><td>2</td><td>WATSON</td><td>THERESA</td><td>1</td></tr><tr><td>73</td><td>2</td><td>BROOKS</td><td>BEVERLY</td><td>1</td></tr><tr><td>74</td><td>1</td><td>KELLY</td><td>DENISE</td><td>1</td></tr><tr><td>75</td><td>2</td><td>SANDERS</td><td>TAMMY</td><td>1</td></tr><tr><td>76</td><td>2</td><td>PRICE</td><td>IRENE</td><td>1</td></tr><tr><td>77</td><td>2</td><td>BENNETT</td><td>JANE</td><td>1</td></tr><tr><td>78</td><td>1</td><td>WOOD</td><td>LORI</td><td>1</td></tr><tr><td>79</td><td>1</td><td>BARNES</td><td>RACHEL</td><td>1</td></tr><tr><td>80</td><td>1</td><td>ROSS</td><td>MARILYN</td><td>1</td></tr><tr><td>81</td><td>1</td><td>HENDERSON</td><td>ANDREA</td><td>1</td></tr><tr><td>82</td><td>1</td><td>COLEMAN</td><td>KATHRYN</td><td>1</td></tr><tr><td>83</td><td>1</td><td>JENKINS</td><td>LOUISE</td><td>1</td></tr><tr><td>84</td><td>2</td><td>PERRY</td><td>SARA</td><td>1</td></tr><tr><td>85</td><td>2</td><td>POWELL</td><td>ANNE</td><td>1</td></tr><tr><td>86</td><td>2</td><td>LONG</td><td>JACQUELINE</td><td>1</td></tr><tr><td>87</td><td>1</td><td>PATTERSON</td><td>WANDA</td><td>1</td></tr><tr><td>88</td><td>2</td><td>HUGHES</td><td>BONNIE</td><td>1</td></tr><tr><td>89</td><td>1</td><td>FLORES</td><td>JULIA</td><td>1</td></tr><tr><td>90</td><td>2</td><td>WASHINGTON</td><td>RUBY</td><td>1</td></tr><tr><td>91</td><td>2</td><td>BUTLER</td><td>LOIS</td><td>1</td></tr><tr><td>92</td><td>2</td><td>SIMMONS</td><td>TINA</td><td>1</td></tr><tr><td>93</td><td>1</td><td>FOSTER</td><td>PHYLLIS</td><td>1</td></tr><tr><td>94</td><td>1</td><td>GONZALES</td><td>NORMA</td><td>1</td></tr><tr><td>95</td><td>2</td><td>BRYANT</td><td>PAULA</td><td>1</td></tr><tr><td>96</td><td>1</td><td>ALEXANDER</td><td>DIANA</td><td>1</td></tr><tr><td>97</td><td>2</td><td>RUSSELL</td><td>ANNIE</td><td>1</td></tr><tr><td>98</td><td>1</td><td>GRIFFIN</td><td>LILLIAN</td><td>1</td></tr><tr><td>99</td><td>2</td><td>DIAZ</td><td>EMILY</td><td>1</td></tr><tr><td>100</td><td>1</td><td>HAYES</td><td>ROBIN</td><td>1</td></tr><tr><td>101</td><td>1</td><td>MYERS</td><td>PEGGY</td><td>1</td></tr><tr><td>102</td><td>1</td><td>FORD</td><td>CRYSTAL</td><td>1</td></tr><tr><td>103</td><td>1</td><td>HAMILTON</td><td>GLADYS</td><td>1</td></tr><tr><td>104</td><td>1</td><td>GRAHAM</td><td>RITA</td><td>1</td></tr><tr><td>105</td><td>1</td><td>SULLIVAN</td><td>DAWN</td><td>1</td></tr><tr><td>106</td><td>1</td><td>WALLACE</td><td>CONNIE</td><td>1</td></tr><tr><td>107</td><td>1</td><td>WOODS</td><td>FLORENCE</td><td>1</td></tr><tr><td>108</td><td>1</td><td>COLE</td><td>TRACY</td><td>1</td></tr><tr><td>109</td><td>2</td><td>WEST</td><td>EDNA</td><td>1</td></tr><tr><td>110</td><td>2</td><td>JORDAN</td><td>TIFFANY</td><td>1</td></tr><tr><td>111</td><td>1</td><td>OWENS</td><td>CARMEN</td><td>1</td></tr><tr><td>112</td><td>2</td><td>REYNOLDS</td><td>ROSA</td><td>1</td></tr><tr><td>113</td><td>2</td><td>FISHER</td><td>CINDY</td><td>1</td></tr><tr><td>114</td><td>2</td><td>ELLIS</td><td>GRACE</td><td>1</td></tr><tr><td>115</td><td>1</td><td>HARRISON</td><td>WENDY</td><td>1</td></tr><tr><td>116</td><td>1</td><td>GIBSON</td><td>VICTORIA</td><td>1</td></tr><tr><td>117</td><td>1</td><td>MCDONALD</td><td>EDITH</td><td>1</td></tr><tr><td>118</td><td>1</td><td>CRUZ</td><td>KIM</td><td>1</td></tr><tr><td>119</td><td>1</td><td>MARSHALL</td><td>SHERRY</td><td>1</td></tr><tr><td>120</td><td>2</td><td>ORTIZ</td><td>SYLVIA</td><td>1</td></tr><tr><td>121</td><td>1</td><td>GOMEZ</td><td>JOSEPHINE</td><td>1</td></tr><tr><td>122</td><td>1</td><td>MURRAY</td><td>THELMA</td><td>1</td></tr><tr><td>123</td><td>2</td><td>FREEMAN</td><td>SHANNON</td><td>1</td></tr><tr><td>124</td><td>1</td><td>WELLS</td><td>SHEILA</td><td>0</td></tr><tr><td>125</td><td>1</td><td>WEBB</td><td>ETHEL</td><td>1</td></tr><tr><td>126</td><td>1</td><td>SIMPSON</td><td>ELLEN</td><td>1</td></tr><tr><td>127</td><td>2</td><td>STEVENS</td><td>ELAINE</td><td>1</td></tr><tr><td>128</td><td>1</td><td>TUCKER</td><td>MARJORIE</td><td>1</td></tr><tr><td>129</td><td>1</td><td>PORTER</td><td>CARRIE</td><td>1</td></tr><tr><td>130</td><td>1</td><td>HUNTER</td><td>CHARLOTTE</td><td>1</td></tr><tr><td>131</td><td>2</td><td>HICKS</td><td>MONICA</td><td>1</td></tr><tr><td>132</td><td>2</td><td>CRAWFORD</td><td>ESTHER</td><td>1</td></tr><tr><td>133</td><td>1</td><td>HENRY</td><td>PAULINE</td><td>1</td></tr><tr><td>134</td><td>1</td><td>BOYD</td><td>EMMA</td><td>1</td></tr><tr><td>135</td><td>2</td><td>MASON</td><td>JUANITA</td><td>1</td></tr><tr><td>136</td><td>2</td><td>MORALES</td><td>ANITA</td><td>1</td></tr><tr><td>137</td><td>2</td><td>KENNEDY</td><td>RHONDA</td><td>1</td></tr><tr><td>138</td><td>1</td><td>WARREN</td><td>HAZEL</td><td>1</td></tr><tr><td>139</td><td>1</td><td>DIXON</td><td>AMBER</td><td>1</td></tr><tr><td>140</td><td>1</td><td>RAMOS</td><td>EVA</td><td>1</td></tr><tr><td>141</td><td>1</td><td>REYES</td><td>DEBBIE</td><td>1</td></tr><tr><td>142</td><td>1</td><td>BURNS</td><td>APRIL</td><td>1</td></tr><tr><td>143</td><td>1</td><td>GORDON</td><td>LESLIE</td><td>1</td></tr><tr><td>144</td><td>1</td><td>SHAW</td><td>CLARA</td><td>1</td></tr><tr><td>145</td><td>1</td><td>HOLMES</td><td>LUCILLE</td><td>1</td></tr><tr><td>146</td><td>1</td><td>RICE</td><td>JAMIE</td><td>1</td></tr><tr><td>147</td><td>2</td><td>ROBERTSON</td><td>JOANNE</td><td>1</td></tr><tr><td>148</td><td>1</td><td>HUNT</td><td>ELEANOR</td><td>1</td></tr><tr><td>149</td><td>1</td><td>BLACK</td><td>VALERIE</td><td>1</td></tr><tr><td>150</td><td>2</td><td>DANIELS</td><td>DANIELLE</td><td>1</td></tr><tr><td>151</td><td>2</td><td>PALMER</td><td>MEGAN</td><td>1</td></tr><tr><td>152</td><td>1</td><td>MILLS</td><td>ALICIA</td><td>1</td></tr><tr><td>153</td><td>2</td><td>NICHOLS</td><td>SUZANNE</td><td>1</td></tr><tr><td>154</td><td>2</td><td>GRANT</td><td>MICHELE</td><td>1</td></tr><tr><td>155</td><td>1</td><td>KNIGHT</td><td>GAIL</td><td>1</td></tr><tr><td>156</td><td>1</td><td>FERGUSON</td><td>BERTHA</td><td>1</td></tr><tr><td>157</td><td>2</td><td>ROSE</td><td>DARLENE</td><td>1</td></tr><tr><td>158</td><td>1</td><td>STONE</td><td>VERONICA</td><td>1</td></tr><tr><td>159</td><td>1</td><td>HAWKINS</td><td>JILL</td><td>1</td></tr><tr><td>160</td><td>2</td><td>DUNN</td><td>ERIN</td><td>1</td></tr><tr><td>161</td><td>1</td><td>PERKINS</td><td>GERALDINE</td><td>1</td></tr><tr><td>162</td><td>2</td><td>HUDSON</td><td>LAUREN</td><td>1</td></tr><tr><td>163</td><td>1</td><td>SPENCER</td><td>CATHY</td><td>1</td></tr><tr><td>164</td><td>2</td><td>GARDNER</td><td>JOANN</td><td>1</td></tr><tr><td>165</td><td>2</td><td>STEPHENS</td><td>LORRAINE</td><td>1</td></tr><tr><td>166</td><td>1</td><td>PAYNE</td><td>LYNN</td><td>1</td></tr><tr><td>167</td><td>2</td><td>PIERCE</td><td>SALLY</td><td>1</td></tr><tr><td>168</td><td>1</td><td>BERRY</td><td>REGINA</td><td>1</td></tr><tr><td>169</td><td>2</td><td>MATTHEWS</td><td>ERICA</td><td>0</td></tr><tr><td>170</td><td>1</td><td>ARNOLD</td><td>BEATRICE</td><td>1</td></tr><tr><td>171</td><td>2</td><td>WAGNER</td><td>DOLORES</td><td>1</td></tr><tr><td>172</td><td>1</td><td>WILLIS</td><td>BERNICE</td><td>1</td></tr><tr><td>173</td><td>1</td><td>RAY</td><td>AUDREY</td><td>1</td></tr><tr><td>174</td><td>2</td><td>WATKINS</td><td>YVONNE</td><td>1</td></tr><tr><td>175</td><td>1</td><td>OLSON</td><td>ANNETTE</td><td>1</td></tr><tr><td>176</td><td>1</td><td>CARROLL</td><td>JUNE</td><td>1</td></tr><tr><td>177</td><td>2</td><td>DUNCAN</td><td>SAMANTHA</td><td>1</td></tr><tr><td>178</td><td>2</td><td>SNYDER</td><td>MARION</td><td>1</td></tr><tr><td>179</td><td>1</td><td>HART</td><td>DANA</td><td>1</td></tr><tr><td>180</td><td>2</td><td>CUNNINGHAM</td><td>STACY</td><td>1</td></tr><tr><td>181</td><td>2</td><td>BRADLEY</td><td>ANA</td><td>1</td></tr><tr><td>182</td><td>1</td><td>LANE</td><td>RENEE</td><td>1</td></tr><tr><td>183</td><td>2</td><td>ANDREWS</td><td>IDA</td><td>1</td></tr><tr><td>184</td><td>1</td><td>RUIZ</td><td>VIVIAN</td><td>1</td></tr><tr><td>185</td><td>1</td><td>HARPER</td><td>ROBERTA</td><td>1</td></tr><tr><td>186</td><td>2</td><td>FOX</td><td>HOLLY</td><td>1</td></tr><tr><td>187</td><td>2</td><td>RILEY</td><td>BRITTANY</td><td>1</td></tr><tr><td>188</td><td>1</td><td>ARMSTRONG</td><td>MELANIE</td><td>1</td></tr><tr><td>189</td><td>1</td><td>CARPENTER</td><td>LORETTA</td><td>1</td></tr><tr><td>190</td><td>2</td><td>WEAVER</td><td>YOLANDA</td><td>1</td></tr><tr><td>191</td><td>1</td><td>GREENE</td><td>JEANETTE</td><td>1</td></tr><tr><td>192</td><td>1</td><td>LAWRENCE</td><td>LAURIE</td><td>1</td></tr><tr><td>193</td><td>2</td><td>ELLIOTT</td><td>KATIE</td><td>1</td></tr><tr><td>194</td><td>2</td><td>CHAVEZ</td><td>KRISTEN</td><td>1</td></tr><tr><td>195</td><td>1</td><td>SIMS</td><td>VANESSA</td><td>1</td></tr><tr><td>196</td><td>1</td><td>AUSTIN</td><td>ALMA</td><td>1</td></tr><tr><td>197</td><td>2</td><td>PETERS</td><td>SUE</td><td>1</td></tr><tr><td>198</td><td>2</td><td>KELLEY</td><td>ELSIE</td><td>1</td></tr><tr><td>199</td><td>2</td><td>FRANKLIN</td><td>BETH</td><td>1</td></tr><tr><td>200</td><td>2</td><td>LAWSON</td><td>JEANNE</td><td>1</td></tr><tr><td>201</td><td>1</td><td>FIELDS</td><td>VICKI</td><td>1</td></tr><tr><td>202</td><td>2</td><td>GUTIERREZ</td><td>CARLA</td><td>1</td></tr><tr><td>203</td><td>1</td><td>RYAN</td><td>TARA</td><td>1</td></tr><tr><td>204</td><td>1</td><td>SCHMIDT</td><td>ROSEMARY</td><td>1</td></tr><tr><td>205</td><td>2</td><td>CARR</td><td>EILEEN</td><td>1</td></tr><tr><td>206</td><td>1</td><td>VASQUEZ</td><td>TERRI</td><td>1</td></tr><tr><td>207</td><td>1</td><td>CASTILLO</td><td>GERTRUDE</td><td>1</td></tr><tr><td>208</td><td>1</td><td>WHEELER</td><td>LUCY</td><td>1</td></tr><tr><td>209</td><td>2</td><td>CHAPMAN</td><td>TONYA</td><td>1</td></tr><tr><td>210</td><td>2</td><td>OLIVER</td><td>ELLA</td><td>1</td></tr><tr><td>211</td><td>1</td><td>MONTGOMERY</td><td>STACEY</td><td>1</td></tr><tr><td>212</td><td>2</td><td>RICHARDS</td><td>WILMA</td><td>1</td></tr><tr><td>213</td><td>1</td><td>WILLIAMSON</td><td>GINA</td><td>1</td></tr><tr><td>214</td><td>1</td><td>JOHNSTON</td><td>KRISTIN</td><td>1</td></tr><tr><td>215</td><td>2</td><td>BANKS</td><td>JESSIE</td><td>1</td></tr><tr><td>216</td><td>1</td><td>MEYER</td><td>NATALIE</td><td>1</td></tr><tr><td>217</td><td>2</td><td>BISHOP</td><td>AGNES</td><td>1</td></tr><tr><td>218</td><td>1</td><td>MCCOY</td><td>VERA</td><td>1</td></tr><tr><td>219</td><td>2</td><td>HOWELL</td><td>WILLIE</td><td>1</td></tr><tr><td>220</td><td>2</td><td>ALVAREZ</td><td>CHARLENE</td><td>1</td></tr><tr><td>221</td><td>1</td><td>MORRISON</td><td>BESSIE</td><td>1</td></tr><tr><td>222</td><td>2</td><td>HANSEN</td><td>DELORES</td><td>1</td></tr><tr><td>223</td><td>1</td><td>FERNANDEZ</td><td>MELINDA</td><td>1</td></tr><tr><td>224</td><td>2</td><td>GARZA</td><td>PEARL</td><td>1</td></tr><tr><td>225</td><td>1</td><td>HARVEY</td><td>ARLENE</td><td>1</td></tr><tr><td>226</td><td>2</td><td>LITTLE</td><td>MAUREEN</td><td>1</td></tr><tr><td>227</td><td>1</td><td>BURTON</td><td>COLLEEN</td><td>1</td></tr><tr><td>228</td><td>2</td><td>STANLEY</td><td>ALLISON</td><td>1</td></tr><tr><td>229</td><td>1</td><td>NGUYEN</td><td>TAMARA</td><td>1</td></tr><tr><td>230</td><td>2</td><td>GEORGE</td><td>JOY</td><td>1</td></tr><tr><td>231</td><td>1</td><td>JACOBS</td><td>GEORGIA</td><td>1</td></tr><tr><td>232</td><td>2</td><td>REID</td><td>CONSTANCE</td><td>1</td></tr><tr><td>233</td><td>2</td><td>KIM</td><td>LILLIE</td><td>1</td></tr><tr><td>234</td><td>1</td><td>FULLER</td><td>CLAUDIA</td><td>1</td></tr><tr><td>235</td><td>1</td><td>LYNCH</td><td>JACKIE</td><td>1</td></tr><tr><td>236</td><td>1</td><td>DEAN</td><td>MARCIA</td><td>1</td></tr><tr><td>237</td><td>1</td><td>GILBERT</td><td>TANYA</td><td>1</td></tr><tr><td>238</td><td>1</td><td>GARRETT</td><td>NELLIE</td><td>1</td></tr><tr><td>239</td><td>2</td><td>ROMERO</td><td>MINNIE</td><td>1</td></tr><tr><td>240</td><td>1</td><td>WELCH</td><td>MARLENE</td><td>1</td></tr><tr><td>241</td><td>2</td><td>LARSON</td><td>HEIDI</td><td>0</td></tr><tr><td>242</td><td>1</td><td>FRAZIER</td><td>GLENDA</td><td>1</td></tr><tr><td>243</td><td>1</td><td>BURKE</td><td>LYDIA</td><td>1</td></tr><tr><td>244</td><td>2</td><td>HANSON</td><td>VIOLA</td><td>1</td></tr><tr><td>245</td><td>1</td><td>DAY</td><td>COURTNEY</td><td>1</td></tr><tr><td>246</td><td>1</td><td>MENDOZA</td><td>MARIAN</td><td>1</td></tr><tr><td>247</td><td>1</td><td>MORENO</td><td>STELLA</td><td>1</td></tr><tr><td>248</td><td>1</td><td>BOWMAN</td><td>CAROLINE</td><td>1</td></tr><tr><td>249</td><td>2</td><td>MEDINA</td><td>DORA</td><td>1</td></tr><tr><td>250</td><td>2</td><td>FOWLER</td><td>JO</td><td>1</td></tr><tr><td>251</td><td>2</td><td>BREWER</td><td>VICKIE</td><td>1</td></tr><tr><td>252</td><td>2</td><td>HOFFMAN</td><td>MATTIE</td><td>1</td></tr><tr><td>253</td><td>1</td><td>CARLSON</td><td>TERRY</td><td>1</td></tr><tr><td>254</td><td>2</td><td>SILVA</td><td>MAXINE</td><td>1</td></tr><tr><td>255</td><td>2</td><td>PEARSON</td><td>IRMA</td><td>1</td></tr><tr><td>256</td><td>2</td><td>HOLLAND</td><td>MABEL</td><td>1</td></tr><tr><td>257</td><td>2</td><td>DOUGLAS</td><td>MARSHA</td><td>1</td></tr><tr><td>258</td><td>1</td><td>FLEMING</td><td>MYRTLE</td><td>1</td></tr><tr><td>259</td><td>2</td><td>JENSEN</td><td>LENA</td><td>1</td></tr><tr><td>260</td><td>1</td><td>VARGAS</td><td>CHRISTY</td><td>1</td></tr><tr><td>261</td><td>1</td><td>BYRD</td><td>DEANNA</td><td>1</td></tr><tr><td>262</td><td>2</td><td>DAVIDSON</td><td>PATSY</td><td>1</td></tr><tr><td>263</td><td>1</td><td>HOPKINS</td><td>HILDA</td><td>1</td></tr><tr><td>264</td><td>1</td><td>MAY</td><td>GWENDOLYN</td><td>1</td></tr><tr><td>265</td><td>2</td><td>TERRY</td><td>JENNIE</td><td>1</td></tr><tr><td>266</td><td>2</td><td>HERRERA</td><td>NORA</td><td>1</td></tr><tr><td>267</td><td>1</td><td>WADE</td><td>MARGIE</td><td>1</td></tr><tr><td>268</td><td>1</td><td>SOTO</td><td>NINA</td><td>1</td></tr><tr><td>269</td><td>1</td><td>WALTERS</td><td>CASSANDRA</td><td>1</td></tr><tr><td>270</td><td>1</td><td>CURTIS</td><td>LEAH</td><td>1</td></tr><tr><td>271</td><td>1</td><td>NEAL</td><td>PENNY</td><td>0</td></tr><tr><td>272</td><td>1</td><td>CALDWELL</td><td>KAY</td><td>1</td></tr><tr><td>273</td><td>2</td><td>LOWE</td><td>PRISCILLA</td><td>1</td></tr><tr><td>274</td><td>1</td><td>JENNINGS</td><td>NAOMI</td><td>1</td></tr><tr><td>275</td><td>2</td><td>BARNETT</td><td>CAROLE</td><td>1</td></tr><tr><td>276</td><td>1</td><td>GRAVES</td><td>BRANDY</td><td>1</td></tr><tr><td>277</td><td>2</td><td>JIMENEZ</td><td>OLGA</td><td>1</td></tr><tr><td>278</td><td>2</td><td>HORTON</td><td>BILLIE</td><td>1</td></tr><tr><td>279</td><td>2</td><td>SHELTON</td><td>DIANNE</td><td>1</td></tr><tr><td>280</td><td>2</td><td>BARRETT</td><td>TRACEY</td><td>1</td></tr><tr><td>281</td><td>2</td><td>OBRIEN</td><td>LEONA</td><td>1</td></tr><tr><td>282</td><td>2</td><td>CASTRO</td><td>JENNY</td><td>1</td></tr><tr><td>283</td><td>1</td><td>SUTTON</td><td>FELICIA</td><td>1</td></tr><tr><td>284</td><td>1</td><td>GREGORY</td><td>SONIA</td><td>1</td></tr><tr><td>285</td><td>1</td><td>MCKINNEY</td><td>MIRIAM</td><td>1</td></tr><tr><td>286</td><td>1</td><td>LUCAS</td><td>VELMA</td><td>1</td></tr><tr><td>287</td><td>2</td><td>MILES</td><td>BECKY</td><td>1</td></tr><tr><td>288</td><td>1</td><td>CRAIG</td><td>BOBBIE</td><td>1</td></tr><tr><td>289</td><td>1</td><td>RODRIQUEZ</td><td>VIOLET</td><td>1</td></tr><tr><td>290</td><td>1</td><td>CHAMBERS</td><td>KRISTINA</td><td>1</td></tr><tr><td>291</td><td>1</td><td>HOLT</td><td>TONI</td><td>1</td></tr><tr><td>292</td><td>2</td><td>LAMBERT</td><td>MISTY</td><td>1</td></tr><tr><td>293</td><td>2</td><td>FLETCHER</td><td>MAE</td><td>1</td></tr><tr><td>294</td><td>2</td><td>WATTS</td><td>SHELLY</td><td>1</td></tr><tr><td>295</td><td>1</td><td>BATES</td><td>DAISY</td><td>1</td></tr><tr><td>296</td><td>2</td><td>HALE</td><td>RAMONA</td><td>1</td></tr><tr><td>297</td><td>1</td><td>RHODES</td><td>SHERRI</td><td>1</td></tr><tr><td>298</td><td>1</td><td>PENA</td><td>ERIKA</td><td>1</td></tr><tr><td>299</td><td>2</td><td>GANNON</td><td>JAMES</td><td>1</td></tr><tr><td>300</td><td>1</td><td>FARNSWORTH</td><td>JOHN</td><td>1</td></tr><tr><td>301</td><td>2</td><td>BAUGHMAN</td><td>ROBERT</td><td>1</td></tr><tr><td>302</td><td>1</td><td>SILVERMAN</td><td>MICHAEL</td><td>1</td></tr><tr><td>303</td><td>2</td><td>SATTERFIELD</td><td>WILLIAM</td><td>1</td></tr><tr><td>304</td><td>2</td><td>ROYAL</td><td>DAVID</td><td>1</td></tr><tr><td>305</td><td>1</td><td>MCCRARY</td><td>RICHARD</td><td>1</td></tr><tr><td>306</td><td>1</td><td>KOWALSKI</td><td>CHARLES</td><td>1</td></tr><tr><td>307</td><td>2</td><td>JOY</td><td>JOSEPH</td><td>1</td></tr><tr><td>308</td><td>1</td><td>GRIGSBY</td><td>THOMAS</td><td>1</td></tr><tr><td>309</td><td>1</td><td>GRECO</td><td>CHRISTOPHER</td><td>1</td></tr><tr><td>310</td><td>2</td><td>CABRAL</td><td>DANIEL</td><td>1</td></tr><tr><td>311</td><td>2</td><td>TROUT</td><td>PAUL</td><td>1</td></tr><tr><td>312</td><td>2</td><td>RINEHART</td><td>MARK</td><td>1</td></tr><tr><td>313</td><td>2</td><td>MAHON</td><td>DONALD</td><td>1</td></tr><tr><td>314</td><td>1</td><td>LINTON</td><td>GEORGE</td><td>1</td></tr><tr><td>315</td><td>2</td><td>GOODEN</td><td>KENNETH</td><td>0</td></tr><tr><td>316</td><td>1</td><td>CURLEY</td><td>STEVEN</td><td>1</td></tr><tr><td>317</td><td>2</td><td>BAUGH</td><td>EDWARD</td><td>1</td></tr><tr><td>318</td><td>1</td><td>WYMAN</td><td>BRIAN</td><td>1</td></tr><tr><td>319</td><td>2</td><td>WEINER</td><td>RONALD</td><td>1</td></tr><tr><td>320</td><td>2</td><td>SCHWAB</td><td>ANTHONY</td><td>1</td></tr><tr><td>321</td><td>1</td><td>SCHULER</td><td>KEVIN</td><td>1</td></tr><tr><td>322</td><td>1</td><td>MORRISSEY</td><td>JASON</td><td>1</td></tr><tr><td>323</td><td>2</td><td>MAHAN</td><td>MATTHEW</td><td>1</td></tr><tr><td>324</td><td>2</td><td>COY</td><td>GARY</td><td>1</td></tr><tr><td>325</td><td>1</td><td>BUNN</td><td>TIMOTHY</td><td>1</td></tr><tr><td>326</td><td>1</td><td>ANDREW</td><td>JOSE</td><td>1</td></tr><tr><td>327</td><td>2</td><td>THRASHER</td><td>LARRY</td><td>1</td></tr><tr><td>328</td><td>2</td><td>SPEAR</td><td>JEFFREY</td><td>1</td></tr><tr><td>329</td><td>2</td><td>WAGGONER</td><td>FRANK</td><td>1</td></tr><tr><td>330</td><td>1</td><td>SHELLEY</td><td>SCOTT</td><td>1</td></tr><tr><td>331</td><td>1</td><td>ROBERT</td><td>ERIC</td><td>1</td></tr><tr><td>332</td><td>1</td><td>QUALLS</td><td>STEPHEN</td><td>1</td></tr><tr><td>333</td><td>2</td><td>PURDY</td><td>ANDREW</td><td>1</td></tr><tr><td>334</td><td>2</td><td>MCWHORTER</td><td>RAYMOND</td><td>1</td></tr><tr><td>335</td><td>1</td><td>MAULDIN</td><td>GREGORY</td><td>1</td></tr><tr><td>336</td><td>1</td><td>MARK</td><td>JOSHUA</td><td>1</td></tr><tr><td>337</td><td>1</td><td>JORDON</td><td>JERRY</td><td>1</td></tr><tr><td>338</td><td>1</td><td>GILMAN</td><td>DENNIS</td><td>1</td></tr><tr><td>339</td><td>2</td><td>PERRYMAN</td><td>WALTER</td><td>1</td></tr><tr><td>340</td><td>1</td><td>NEWSOM</td><td>PATRICK</td><td>1</td></tr><tr><td>341</td><td>1</td><td>MENARD</td><td>PETER</td><td>1</td></tr><tr><td>342</td><td>1</td><td>MARTINO</td><td>HAROLD</td><td>1</td></tr><tr><td>343</td><td>1</td><td>GRAF</td><td>DOUGLAS</td><td>1</td></tr><tr><td>344</td><td>1</td><td>BILLINGSLEY</td><td>HENRY</td><td>1</td></tr><tr><td>345</td><td>1</td><td>ARTIS</td><td>CARL</td><td>1</td></tr><tr><td>346</td><td>1</td><td>SIMPKINS</td><td>ARTHUR</td><td>1</td></tr><tr><td>347</td><td>2</td><td>SALISBURY</td><td>RYAN</td><td>1</td></tr><tr><td>348</td><td>2</td><td>QUINTANILLA</td><td>ROGER</td><td>1</td></tr><tr><td>349</td><td>2</td><td>GILLILAND</td><td>JOE</td><td>1</td></tr><tr><td>350</td><td>1</td><td>FRALEY</td><td>JUAN</td><td>1</td></tr><tr><td>351</td><td>1</td><td>FOUST</td><td>JACK</td><td>1</td></tr><tr><td>352</td><td>1</td><td>CROUSE</td><td>ALBERT</td><td>1</td></tr><tr><td>353</td><td>1</td><td>SCARBOROUGH</td><td>JONATHAN</td><td>1</td></tr><tr><td>354</td><td>2</td><td>NGO</td><td>JUSTIN</td><td>1</td></tr><tr><td>355</td><td>2</td><td>GRISSOM</td><td>TERRY</td><td>1</td></tr><tr><td>356</td><td>2</td><td>FULTZ</td><td>GERALD</td><td>1</td></tr><tr><td>357</td><td>1</td><td>RICO</td><td>KEITH</td><td>1</td></tr><tr><td>358</td><td>2</td><td>MARLOW</td><td>SAMUEL</td><td>1</td></tr><tr><td>359</td><td>2</td><td>MARKHAM</td><td>WILLIE</td><td>1</td></tr><tr><td>360</td><td>2</td><td>MADRIGAL</td><td>RALPH</td><td>1</td></tr><tr><td>361</td><td>2</td><td>LAWTON</td><td>LAWRENCE</td><td>1</td></tr><tr><td>362</td><td>1</td><td>BARFIELD</td><td>NICHOLAS</td><td>1</td></tr><tr><td>363</td><td>2</td><td>WHITING</td><td>ROY</td><td>1</td></tr><tr><td>364</td><td>1</td><td>VARNEY</td><td>BENJAMIN</td><td>1</td></tr><tr><td>365</td><td>2</td><td>SCHWARZ</td><td>BRUCE</td><td>1</td></tr><tr><td>366</td><td>1</td><td>HUEY</td><td>BRANDON</td><td>1</td></tr><tr><td>367</td><td>1</td><td>GOOCH</td><td>ADAM</td><td>1</td></tr><tr><td>368</td><td>1</td><td>ARCE</td><td>HARRY</td><td>0</td></tr><tr><td>369</td><td>2</td><td>WHEAT</td><td>FRED</td><td>1</td></tr><tr><td>370</td><td>2</td><td>TRUONG</td><td>WAYNE</td><td>1</td></tr><tr><td>371</td><td>1</td><td>POULIN</td><td>BILLY</td><td>1</td></tr><tr><td>372</td><td>2</td><td>MACKENZIE</td><td>STEVE</td><td>1</td></tr><tr><td>373</td><td>1</td><td>LEONE</td><td>LOUIS</td><td>1</td></tr><tr><td>374</td><td>2</td><td>HURTADO</td><td>JEREMY</td><td>1</td></tr><tr><td>375</td><td>2</td><td>SELBY</td><td>AARON</td><td>1</td></tr><tr><td>376</td><td>1</td><td>GAITHER</td><td>RANDY</td><td>1</td></tr><tr><td>377</td><td>1</td><td>FORTNER</td><td>HOWARD</td><td>1</td></tr><tr><td>378</td><td>1</td><td>CULPEPPER</td><td>EUGENE</td><td>1</td></tr><tr><td>379</td><td>1</td><td>COUGHLIN</td><td>CARLOS</td><td>1</td></tr><tr><td>380</td><td>1</td><td>BRINSON</td><td>RUSSELL</td><td>1</td></tr><tr><td>381</td><td>2</td><td>BOUDREAU</td><td>BOBBY</td><td>1</td></tr><tr><td>382</td><td>2</td><td>BARKLEY</td><td>VICTOR</td><td>1</td></tr><tr><td>383</td><td>1</td><td>BALES</td><td>MARTIN</td><td>1</td></tr><tr><td>384</td><td>2</td><td>STEPP</td><td>ERNEST</td><td>1</td></tr><tr><td>385</td><td>1</td><td>HOLM</td><td>PHILLIP</td><td>1</td></tr><tr><td>386</td><td>1</td><td>TAN</td><td>TODD</td><td>1</td></tr><tr><td>387</td><td>2</td><td>SCHILLING</td><td>JESSE</td><td>1</td></tr><tr><td>388</td><td>2</td><td>MORRELL</td><td>CRAIG</td><td>1</td></tr><tr><td>389</td><td>1</td><td>KAHN</td><td>ALAN</td><td>1</td></tr><tr><td>390</td><td>1</td><td>HEATON</td><td>SHAWN</td><td>1</td></tr><tr><td>391</td><td>1</td><td>GAMEZ</td><td>CLARENCE</td><td>1</td></tr><tr><td>392</td><td>2</td><td>DOUGLASS</td><td>SEAN</td><td>1</td></tr><tr><td>393</td><td>1</td><td>CAUSEY</td><td>PHILIP</td><td>1</td></tr><tr><td>394</td><td>2</td><td>BROTHERS</td><td>CHRIS</td><td>1</td></tr><tr><td>395</td><td>2</td><td>TURPIN</td><td>JOHNNY</td><td>1</td></tr><tr><td>396</td><td>1</td><td>SHANKS</td><td>EARL</td><td>1</td></tr><tr><td>397</td><td>1</td><td>SCHRADER</td><td>JIMMY</td><td>1</td></tr><tr><td>398</td><td>1</td><td>MEEK</td><td>ANTONIO</td><td>1</td></tr><tr><td>399</td><td>1</td><td>ISOM</td><td>DANNY</td><td>1</td></tr><tr><td>400</td><td>2</td><td>HARDISON</td><td>BRYAN</td><td>1</td></tr><tr><td>401</td><td>2</td><td>CARRANZA</td><td>TONY</td><td>1</td></tr><tr><td>402</td><td>1</td><td>YANEZ</td><td>LUIS</td><td>1</td></tr><tr><td>403</td><td>1</td><td>WAY</td><td>MIKE</td><td>1</td></tr><tr><td>404</td><td>2</td><td>SCROGGINS</td><td>STANLEY</td><td>1</td></tr><tr><td>405</td><td>1</td><td>SCHOFIELD</td><td>LEONARD</td><td>1</td></tr><tr><td>406</td><td>1</td><td>RUNYON</td><td>NATHAN</td><td>0</td></tr><tr><td>407</td><td>1</td><td>RATCLIFF</td><td>DALE</td><td>1</td></tr><tr><td>408</td><td>1</td><td>MURRELL</td><td>MANUEL</td><td>1</td></tr><tr><td>409</td><td>2</td><td>MOELLER</td><td>RODNEY</td><td>1</td></tr><tr><td>410</td><td>2</td><td>IRBY</td><td>CURTIS</td><td>1</td></tr><tr><td>411</td><td>1</td><td>CURRIER</td><td>NORMAN</td><td>1</td></tr><tr><td>412</td><td>2</td><td>BUTTERFIELD</td><td>ALLEN</td><td>1</td></tr><tr><td>413</td><td>2</td><td>YEE</td><td>MARVIN</td><td>1</td></tr><tr><td>414</td><td>1</td><td>RALSTON</td><td>VINCENT</td><td>1</td></tr><tr><td>415</td><td>1</td><td>PULLEN</td><td>GLENN</td><td>1</td></tr><tr><td>416</td><td>2</td><td>PINSON</td><td>JEFFERY</td><td>1</td></tr><tr><td>417</td><td>1</td><td>ESTEP</td><td>TRAVIS</td><td>1</td></tr><tr><td>418</td><td>2</td><td>EAST</td><td>JEFF</td><td>1</td></tr><tr><td>419</td><td>1</td><td>CARBONE</td><td>CHAD</td><td>1</td></tr><tr><td>420</td><td>1</td><td>LANCE</td><td>JACOB</td><td>1</td></tr><tr><td>421</td><td>1</td><td>HAWKS</td><td>LEE</td><td>1</td></tr><tr><td>422</td><td>1</td><td>ELLINGTON</td><td>MELVIN</td><td>1</td></tr><tr><td>423</td><td>2</td><td>CASILLAS</td><td>ALFRED</td><td>1</td></tr><tr><td>424</td><td>2</td><td>SPURLOCK</td><td>KYLE</td><td>1</td></tr><tr><td>425</td><td>2</td><td>SIKES</td><td>FRANCIS</td><td>1</td></tr><tr><td>426</td><td>1</td><td>MOTLEY</td><td>BRADLEY</td><td>1</td></tr><tr><td>427</td><td>2</td><td>MCCARTNEY</td><td>JESUS</td><td>1</td></tr><tr><td>428</td><td>2</td><td>KRUGER</td><td>HERBERT</td><td>1</td></tr><tr><td>429</td><td>2</td><td>ISBELL</td><td>FREDERICK</td><td>1</td></tr><tr><td>430</td><td>1</td><td>HOULE</td><td>RAY</td><td>1</td></tr><tr><td>431</td><td>2</td><td>FRANCISCO</td><td>JOEL</td><td>1</td></tr><tr><td>432</td><td>1</td><td>BURK</td><td>EDWIN</td><td>1</td></tr><tr><td>433</td><td>1</td><td>BONE</td><td>DON</td><td>1</td></tr><tr><td>434</td><td>1</td><td>TOMLIN</td><td>EDDIE</td><td>1</td></tr><tr><td>435</td><td>2</td><td>SHELBY</td><td>RICKY</td><td>1</td></tr><tr><td>436</td><td>1</td><td>QUIGLEY</td><td>TROY</td><td>1</td></tr><tr><td>437</td><td>2</td><td>NEUMANN</td><td>RANDALL</td><td>1</td></tr><tr><td>438</td><td>1</td><td>LOVELACE</td><td>BARRY</td><td>1</td></tr><tr><td>439</td><td>2</td><td>FENNELL</td><td>ALEXANDER</td><td>1</td></tr><tr><td>440</td><td>1</td><td>COLBY</td><td>BERNARD</td><td>1</td></tr><tr><td>441</td><td>1</td><td>CHEATHAM</td><td>MARIO</td><td>1</td></tr><tr><td>442</td><td>1</td><td>BUSTAMANTE</td><td>LEROY</td><td>1</td></tr><tr><td>443</td><td>2</td><td>SKIDMORE</td><td>FRANCISCO</td><td>1</td></tr><tr><td>444</td><td>2</td><td>HIDALGO</td><td>MARCUS</td><td>1</td></tr><tr><td>445</td><td>1</td><td>FORMAN</td><td>MICHEAL</td><td>1</td></tr><tr><td>446</td><td>2</td><td>CULP</td><td>THEODORE</td><td>0</td></tr><tr><td>447</td><td>1</td><td>BOWENS</td><td>CLIFFORD</td><td>1</td></tr><tr><td>448</td><td>1</td><td>BETANCOURT</td><td>MIGUEL</td><td>1</td></tr><tr><td>449</td><td>2</td><td>AQUINO</td><td>OSCAR</td><td>1</td></tr><tr><td>450</td><td>1</td><td>ROBB</td><td>JAY</td><td>1</td></tr><tr><td>451</td><td>1</td><td>REA</td><td>JIM</td><td>1</td></tr><tr><td>452</td><td>1</td><td>MILNER</td><td>TOM</td><td>1</td></tr><tr><td>453</td><td>1</td><td>MARTEL</td><td>CALVIN</td><td>1</td></tr><tr><td>454</td><td>2</td><td>GRESHAM</td><td>ALEX</td><td>1</td></tr><tr><td>455</td><td>2</td><td>WILES</td><td>JON</td><td>1</td></tr><tr><td>456</td><td>2</td><td>RICKETTS</td><td>RONNIE</td><td>1</td></tr><tr><td>457</td><td>2</td><td>GAVIN</td><td>BILL</td><td>1</td></tr><tr><td>458</td><td>1</td><td>DOWD</td><td>LLOYD</td><td>1</td></tr><tr><td>459</td><td>1</td><td>COLLAZO</td><td>TOMMY</td><td>1</td></tr><tr><td>460</td><td>1</td><td>BOSTIC</td><td>LEON</td><td>1</td></tr><tr><td>461</td><td>1</td><td>BLAKELY</td><td>DEREK</td><td>1</td></tr><tr><td>462</td><td>2</td><td>SHERROD</td><td>WARREN</td><td>1</td></tr><tr><td>463</td><td>2</td><td>POWER</td><td>DARRELL</td><td>1</td></tr><tr><td>464</td><td>1</td><td>KENYON</td><td>JEROME</td><td>1</td></tr><tr><td>465</td><td>1</td><td>GANDY</td><td>FLOYD</td><td>1</td></tr><tr><td>466</td><td>1</td><td>EBERT</td><td>LEO</td><td>1</td></tr><tr><td>467</td><td>2</td><td>DELOACH</td><td>ALVIN</td><td>1</td></tr><tr><td>468</td><td>1</td><td>CARY</td><td>TIM</td><td>1</td></tr><tr><td>469</td><td>2</td><td>BULL</td><td>WESLEY</td><td>1</td></tr><tr><td>470</td><td>1</td><td>ALLARD</td><td>GORDON</td><td>1</td></tr><tr><td>471</td><td>1</td><td>SAUER</td><td>DEAN</td><td>1</td></tr><tr><td>472</td><td>1</td><td>ROBINS</td><td>GREG</td><td>1</td></tr><tr><td>473</td><td>2</td><td>OLIVARES</td><td>JORGE</td><td>1</td></tr><tr><td>474</td><td>2</td><td>GILLETTE</td><td>DUSTIN</td><td>1</td></tr><tr><td>475</td><td>2</td><td>CHESTNUT</td><td>PEDRO</td><td>1</td></tr><tr><td>476</td><td>1</td><td>BOURQUE</td><td>DERRICK</td><td>1</td></tr><tr><td>477</td><td>1</td><td>PAINE</td><td>DAN</td><td>1</td></tr><tr><td>478</td><td>1</td><td>LYMAN</td><td>LEWIS</td><td>1</td></tr><tr><td>479</td><td>1</td><td>HITE</td><td>ZACHARY</td><td>1</td></tr><tr><td>480</td><td>1</td><td>HAUSER</td><td>COREY</td><td>1</td></tr><tr><td>481</td><td>1</td><td>DEVORE</td><td>HERMAN</td><td>1</td></tr><tr><td>482</td><td>1</td><td>CRAWLEY</td><td>MAURICE</td><td>0</td></tr><tr><td>483</td><td>2</td><td>CHAPA</td><td>VERNON</td><td>1</td></tr><tr><td>484</td><td>1</td><td>VU</td><td>ROBERTO</td><td>1</td></tr><tr><td>485</td><td>1</td><td>TOBIAS</td><td>CLYDE</td><td>1</td></tr><tr><td>486</td><td>1</td><td>TALBERT</td><td>GLEN</td><td>1</td></tr><tr><td>487</td><td>2</td><td>POINDEXTER</td><td>HECTOR</td><td>1</td></tr><tr><td>488</td><td>2</td><td>MILLARD</td><td>SHANE</td><td>1</td></tr><tr><td>489</td><td>1</td><td>MEADOR</td><td>RICARDO</td><td>1</td></tr><tr><td>490</td><td>1</td><td>MCDUFFIE</td><td>SAM</td><td>1</td></tr><tr><td>491</td><td>2</td><td>MATTOX</td><td>RICK</td><td>1</td></tr><tr><td>492</td><td>2</td><td>KRAUS</td><td>LESTER</td><td>1</td></tr><tr><td>493</td><td>1</td><td>HARKINS</td><td>BRENT</td><td>1</td></tr><tr><td>494</td><td>2</td><td>CHOATE</td><td>RAMON</td><td>1</td></tr><tr><td>495</td><td>2</td><td>BESS</td><td>CHARLIE</td><td>1</td></tr><tr><td>496</td><td>2</td><td>WREN</td><td>TYLER</td><td>1</td></tr><tr><td>497</td><td>2</td><td>SLEDGE</td><td>GILBERT</td><td>1</td></tr><tr><td>498</td><td>1</td><td>SANBORN</td><td>GENE</td><td>1</td></tr><tr><td>499</td><td>2</td><td>OUTLAW</td><td>MARC</td><td>1</td></tr><tr><td>500</td><td>1</td><td>KINDER</td><td>REGINALD</td><td>1</td></tr><tr><td>501</td><td>1</td><td>GEARY</td><td>RUBEN</td><td>1</td></tr><tr><td>502</td><td>1</td><td>CORNWELL</td><td>BRETT</td><td>1</td></tr><tr><td>503</td><td>1</td><td>BARCLAY</td><td>ANGEL</td><td>1</td></tr><tr><td>504</td><td>1</td><td>ADAM</td><td>NATHANIEL</td><td>1</td></tr><tr><td>505</td><td>1</td><td>ABNEY</td><td>RAFAEL</td><td>1</td></tr><tr><td>506</td><td>2</td><td>SEWARD</td><td>LESLIE</td><td>1</td></tr><tr><td>507</td><td>2</td><td>RHOADS</td><td>EDGAR</td><td>1</td></tr><tr><td>508</td><td>2</td><td>HOWLAND</td><td>MILTON</td><td>1</td></tr><tr><td>509</td><td>1</td><td>FORTIER</td><td>RAUL</td><td>1</td></tr><tr><td>510</td><td>2</td><td>EASTER</td><td>BEN</td><td>0</td></tr><tr><td>511</td><td>1</td><td>BENNER</td><td>CHESTER</td><td>1</td></tr><tr><td>512</td><td>1</td><td>VINES</td><td>CECIL</td><td>1</td></tr><tr><td>513</td><td>2</td><td>TUBBS</td><td>DUANE</td><td>1</td></tr><tr><td>514</td><td>2</td><td>TROUTMAN</td><td>FRANKLIN</td><td>1</td></tr><tr><td>515</td><td>1</td><td>RAPP</td><td>ANDRE</td><td>1</td></tr><tr><td>516</td><td>2</td><td>NOE</td><td>ELMER</td><td>1</td></tr><tr><td>517</td><td>2</td><td>MCCURDY</td><td>BRAD</td><td>1</td></tr><tr><td>518</td><td>1</td><td>HARDER</td><td>GABRIEL</td><td>1</td></tr><tr><td>519</td><td>2</td><td>DELUCA</td><td>RON</td><td>1</td></tr><tr><td>520</td><td>2</td><td>WESTMORELAND</td><td>MITCHELL</td><td>1</td></tr><tr><td>521</td><td>2</td><td>SOUTH</td><td>ROLAND</td><td>1</td></tr><tr><td>522</td><td>2</td><td>HAVENS</td><td>ARNOLD</td><td>1</td></tr><tr><td>523</td><td>1</td><td>GUAJARDO</td><td>HARVEY</td><td>1</td></tr><tr><td>524</td><td>1</td><td>ELY</td><td>JARED</td><td>1</td></tr><tr><td>525</td><td>2</td><td>CLARY</td><td>ADRIAN</td><td>1</td></tr><tr><td>526</td><td>2</td><td>SEAL</td><td>KARL</td><td>1</td></tr><tr><td>527</td><td>1</td><td>MEEHAN</td><td>CORY</td><td>1</td></tr><tr><td>528</td><td>1</td><td>HERZOG</td><td>CLAUDE</td><td>1</td></tr><tr><td>529</td><td>2</td><td>GUILLEN</td><td>ERIK</td><td>1</td></tr><tr><td>530</td><td>2</td><td>ASHCRAFT</td><td>DARRYL</td><td>1</td></tr><tr><td>531</td><td>2</td><td>WAUGH</td><td>JAMIE</td><td>1</td></tr><tr><td>532</td><td>2</td><td>RENNER</td><td>NEIL</td><td>1</td></tr><tr><td>533</td><td>1</td><td>MILAM</td><td>JESSIE</td><td>1</td></tr><tr><td>534</td><td>1</td><td>JUNG</td><td>CHRISTIAN</td><td>0</td></tr><tr><td>535</td><td>1</td><td>ELROD</td><td>JAVIER</td><td>1</td></tr><tr><td>536</td><td>2</td><td>CHURCHILL</td><td>FERNANDO</td><td>1</td></tr><tr><td>537</td><td>2</td><td>BUFORD</td><td>CLINTON</td><td>1</td></tr><tr><td>538</td><td>2</td><td>BREAUX</td><td>TED</td><td>1</td></tr><tr><td>539</td><td>1</td><td>BOLIN</td><td>MATHEW</td><td>1</td></tr><tr><td>540</td><td>1</td><td>ASHER</td><td>TYRONE</td><td>1</td></tr><tr><td>541</td><td>2</td><td>WINDHAM</td><td>DARREN</td><td>1</td></tr><tr><td>542</td><td>2</td><td>TIRADO</td><td>LONNIE</td><td>1</td></tr><tr><td>543</td><td>1</td><td>PEMBERTON</td><td>LANCE</td><td>1</td></tr><tr><td>544</td><td>2</td><td>NOLEN</td><td>CODY</td><td>1</td></tr><tr><td>545</td><td>2</td><td>NOLAND</td><td>JULIO</td><td>1</td></tr><tr><td>546</td><td>1</td><td>KNOTT</td><td>KELLY</td><td>1</td></tr><tr><td>547</td><td>1</td><td>EMMONS</td><td>KURT</td><td>1</td></tr><tr><td>548</td><td>1</td><td>CORNISH</td><td>ALLAN</td><td>1</td></tr><tr><td>549</td><td>1</td><td>CHRISTENSON</td><td>NELSON</td><td>1</td></tr><tr><td>550</td><td>2</td><td>BROWNLEE</td><td>GUY</td><td>1</td></tr><tr><td>551</td><td>2</td><td>BARBEE</td><td>CLAYTON</td><td>1</td></tr><tr><td>552</td><td>2</td><td>WALDROP</td><td>HUGH</td><td>1</td></tr><tr><td>553</td><td>1</td><td>PITT</td><td>MAX</td><td>1</td></tr><tr><td>554</td><td>1</td><td>OLVERA</td><td>DWAYNE</td><td>1</td></tr><tr><td>555</td><td>1</td><td>LOMBARDI</td><td>DWIGHT</td><td>1</td></tr><tr><td>556</td><td>2</td><td>GRUBER</td><td>ARMANDO</td><td>1</td></tr><tr><td>557</td><td>1</td><td>GAFFNEY</td><td>FELIX</td><td>1</td></tr><tr><td>558</td><td>1</td><td>EGGLESTON</td><td>JIMMIE</td><td>0</td></tr><tr><td>559</td><td>2</td><td>BANDA</td><td>EVERETT</td><td>1</td></tr><tr><td>560</td><td>1</td><td>ARCHULETA</td><td>JORDAN</td><td>1</td></tr><tr><td>561</td><td>2</td><td>STILL</td><td>IAN</td><td>1</td></tr><tr><td>562</td><td>1</td><td>SLONE</td><td>WALLACE</td><td>1</td></tr><tr><td>563</td><td>2</td><td>PREWITT</td><td>KEN</td><td>1</td></tr><tr><td>564</td><td>2</td><td>PFEIFFER</td><td>BOB</td><td>1</td></tr><tr><td>565</td><td>2</td><td>NETTLES</td><td>JAIME</td><td>1</td></tr><tr><td>566</td><td>1</td><td>MENA</td><td>CASEY</td><td>1</td></tr><tr><td>567</td><td>2</td><td>MCADAMS</td><td>ALFREDO</td><td>1</td></tr><tr><td>568</td><td>2</td><td>HENNING</td><td>ALBERTO</td><td>1</td></tr><tr><td>569</td><td>2</td><td>GARDINER</td><td>DAVE</td><td>1</td></tr><tr><td>570</td><td>2</td><td>CROMWELL</td><td>IVAN</td><td>1</td></tr><tr><td>571</td><td>2</td><td>CHISHOLM</td><td>JOHNNIE</td><td>1</td></tr><tr><td>572</td><td>1</td><td>BURLESON</td><td>SIDNEY</td><td>1</td></tr><tr><td>573</td><td>1</td><td>BOX</td><td>BYRON</td><td>1</td></tr><tr><td>574</td><td>2</td><td>VEST</td><td>JULIAN</td><td>1</td></tr><tr><td>575</td><td>2</td><td>OGLESBY</td><td>ISAAC</td><td>1</td></tr><tr><td>576</td><td>2</td><td>MCCARTER</td><td>MORRIS</td><td>1</td></tr><tr><td>577</td><td>2</td><td>MALCOLM</td><td>CLIFTON</td><td>1</td></tr><tr><td>578</td><td>2</td><td>LUMPKIN</td><td>WILLARD</td><td>1</td></tr><tr><td>579</td><td>2</td><td>LARUE</td><td>DARYL</td><td>1</td></tr><tr><td>580</td><td>1</td><td>GREY</td><td>ROSS</td><td>1</td></tr><tr><td>581</td><td>1</td><td>WOFFORD</td><td>VIRGIL</td><td>1</td></tr><tr><td>582</td><td>2</td><td>VANHORN</td><td>ANDY</td><td>1</td></tr><tr><td>583</td><td>1</td><td>THORN</td><td>MARSHALL</td><td>1</td></tr><tr><td>584</td><td>2</td><td>TEEL</td><td>SALVADOR</td><td>1</td></tr><tr><td>585</td><td>1</td><td>SWAFFORD</td><td>PERRY</td><td>1</td></tr><tr><td>586</td><td>1</td><td>STCLAIR</td><td>KIRK</td><td>1</td></tr><tr><td>587</td><td>1</td><td>STANFIELD</td><td>SERGIO</td><td>1</td></tr><tr><td>588</td><td>1</td><td>OCAMPO</td><td>MARION</td><td>1</td></tr><tr><td>589</td><td>1</td><td>HERRMANN</td><td>TRACY</td><td>1</td></tr><tr><td>590</td><td>2</td><td>HANNON</td><td>SETH</td><td>1</td></tr><tr><td>591</td><td>1</td><td>ARSENAULT</td><td>KENT</td><td>1</td></tr><tr><td>592</td><td>1</td><td>ROUSH</td><td>TERRANCE</td><td>0</td></tr><tr><td>593</td><td>2</td><td>MCALISTER</td><td>RENE</td><td>1</td></tr><tr><td>594</td><td>1</td><td>HIATT</td><td>EDUARDO</td><td>1</td></tr><tr><td>595</td><td>1</td><td>GUNDERSON</td><td>TERRENCE</td><td>1</td></tr><tr><td>596</td><td>1</td><td>FORSYTHE</td><td>ENRIQUE</td><td>1</td></tr><tr><td>597</td><td>1</td><td>DUGGAN</td><td>FREDDIE</td><td>1</td></tr><tr><td>598</td><td>1</td><td>DELVALLE</td><td>WADE</td><td>1</td></tr><tr><td>599</td><td>2</td><td>CINTRON</td><td>AUSTIN</td><td>1</td></tr></tbody></table></div>"
            ]
          },
          "metadata": {
            "application/vnd.databricks.v1+output": {
              "addedWidgets": {},
              "aggData": [],
              "aggError": "",
              "aggOverflow": false,
              "aggSchema": [],
              "aggSeriesLimitReached": false,
              "aggType": "",
              "arguments": {},
              "columnCustomDisplayInfos": {},
              "data": [
                [
                  1,
                  1,
                  "SMITH",
                  "MARY",
                  1
                ],
                [
                  2,
                  1,
                  "JOHNSON",
                  "PATRICIA",
                  1
                ],
                [
                  3,
                  1,
                  "WILLIAMS",
                  "LINDA",
                  1
                ],
                [
                  4,
                  2,
                  "JONES",
                  "BARBARA",
                  1
                ],
                [
                  5,
                  1,
                  "BROWN",
                  "ELIZABETH",
                  1
                ],
                [
                  6,
                  2,
                  "DAVIS",
                  "JENNIFER",
                  1
                ],
                [
                  7,
                  1,
                  "MILLER",
                  "MARIA",
                  1
                ],
                [
                  8,
                  2,
                  "WILSON",
                  "SUSAN",
                  1
                ],
                [
                  9,
                  2,
                  "MOORE",
                  "MARGARET",
                  1
                ],
                [
                  10,
                  1,
                  "TAYLOR",
                  "DOROTHY",
                  1
                ],
                [
                  11,
                  2,
                  "ANDERSON",
                  "LISA",
                  1
                ],
                [
                  12,
                  1,
                  "THOMAS",
                  "NANCY",
                  1
                ],
                [
                  13,
                  2,
                  "JACKSON",
                  "KAREN",
                  1
                ],
                [
                  14,
                  2,
                  "WHITE",
                  "BETTY",
                  1
                ],
                [
                  15,
                  1,
                  "HARRIS",
                  "HELEN",
                  1
                ],
                [
                  16,
                  2,
                  "MARTIN",
                  "SANDRA",
                  0
                ],
                [
                  17,
                  1,
                  "THOMPSON",
                  "DONNA",
                  1
                ],
                [
                  18,
                  2,
                  "GARCIA",
                  "CAROL",
                  1
                ],
                [
                  19,
                  1,
                  "MARTINEZ",
                  "RUTH",
                  1
                ],
                [
                  20,
                  2,
                  "ROBINSON",
                  "SHARON",
                  1
                ],
                [
                  21,
                  1,
                  "CLARK",
                  "MICHELLE",
                  1
                ],
                [
                  22,
                  1,
                  "RODRIGUEZ",
                  "LAURA",
                  1
                ],
                [
                  23,
                  2,
                  "LEWIS",
                  "SARAH",
                  1
                ],
                [
                  24,
                  2,
                  "LEE",
                  "KIMBERLY",
                  1
                ],
                [
                  25,
                  1,
                  "WALKER",
                  "DEBORAH",
                  1
                ],
                [
                  26,
                  2,
                  "HALL",
                  "JESSICA",
                  1
                ],
                [
                  27,
                  2,
                  "ALLEN",
                  "SHIRLEY",
                  1
                ],
                [
                  28,
                  1,
                  "YOUNG",
                  "CYNTHIA",
                  1
                ],
                [
                  29,
                  2,
                  "HERNANDEZ",
                  "ANGELA",
                  1
                ],
                [
                  30,
                  1,
                  "KING",
                  "MELISSA",
                  1
                ],
                [
                  31,
                  2,
                  "WRIGHT",
                  "BRENDA",
                  1
                ],
                [
                  32,
                  1,
                  "LOPEZ",
                  "AMY",
                  1
                ],
                [
                  33,
                  2,
                  "HILL",
                  "ANNA",
                  1
                ],
                [
                  34,
                  2,
                  "SCOTT",
                  "REBECCA",
                  1
                ],
                [
                  35,
                  2,
                  "GREEN",
                  "VIRGINIA",
                  1
                ],
                [
                  36,
                  2,
                  "ADAMS",
                  "KATHLEEN",
                  1
                ],
                [
                  37,
                  1,
                  "BAKER",
                  "PAMELA",
                  1
                ],
                [
                  38,
                  1,
                  "GONZALEZ",
                  "MARTHA",
                  1
                ],
                [
                  39,
                  1,
                  "NELSON",
                  "DEBRA",
                  1
                ],
                [
                  40,
                  2,
                  "CARTER",
                  "AMANDA",
                  1
                ],
                [
                  41,
                  1,
                  "MITCHELL",
                  "STEPHANIE",
                  1
                ],
                [
                  42,
                  2,
                  "PEREZ",
                  "CAROLYN",
                  1
                ],
                [
                  43,
                  2,
                  "ROBERTS",
                  "CHRISTINE",
                  1
                ],
                [
                  44,
                  1,
                  "TURNER",
                  "MARIE",
                  1
                ],
                [
                  45,
                  1,
                  "PHILLIPS",
                  "JANET",
                  1
                ],
                [
                  46,
                  2,
                  "CAMPBELL",
                  "CATHERINE",
                  1
                ],
                [
                  47,
                  1,
                  "PARKER",
                  "FRANCES",
                  1
                ],
                [
                  48,
                  1,
                  "EVANS",
                  "ANN",
                  1
                ],
                [
                  49,
                  2,
                  "EDWARDS",
                  "JOYCE",
                  1
                ],
                [
                  50,
                  1,
                  "COLLINS",
                  "DIANE",
                  1
                ],
                [
                  51,
                  1,
                  "STEWART",
                  "ALICE",
                  1
                ],
                [
                  52,
                  1,
                  "SANCHEZ",
                  "JULIE",
                  1
                ],
                [
                  53,
                  1,
                  "MORRIS",
                  "HEATHER",
                  1
                ],
                [
                  54,
                  1,
                  "ROGERS",
                  "TERESA",
                  1
                ],
                [
                  55,
                  2,
                  "REED",
                  "DORIS",
                  1
                ],
                [
                  56,
                  1,
                  "COOK",
                  "GLORIA",
                  1
                ],
                [
                  57,
                  2,
                  "MORGAN",
                  "EVELYN",
                  1
                ],
                [
                  58,
                  1,
                  "BELL",
                  "JEAN",
                  1
                ],
                [
                  59,
                  1,
                  "MURPHY",
                  "CHERYL",
                  1
                ],
                [
                  60,
                  1,
                  "BAILEY",
                  "MILDRED",
                  1
                ],
                [
                  61,
                  2,
                  "RIVERA",
                  "KATHERINE",
                  1
                ],
                [
                  62,
                  1,
                  "COOPER",
                  "JOAN",
                  1
                ],
                [
                  63,
                  1,
                  "RICHARDSON",
                  "ASHLEY",
                  1
                ],
                [
                  64,
                  2,
                  "COX",
                  "JUDITH",
                  0
                ],
                [
                  65,
                  2,
                  "HOWARD",
                  "ROSE",
                  1
                ],
                [
                  66,
                  2,
                  "WARD",
                  "JANICE",
                  1
                ],
                [
                  67,
                  1,
                  "TORRES",
                  "KELLY",
                  1
                ],
                [
                  68,
                  1,
                  "PETERSON",
                  "NICOLE",
                  1
                ],
                [
                  69,
                  2,
                  "GRAY",
                  "JUDY",
                  1
                ],
                [
                  70,
                  2,
                  "RAMIREZ",
                  "CHRISTINA",
                  1
                ],
                [
                  71,
                  1,
                  "JAMES",
                  "KATHY",
                  1
                ],
                [
                  72,
                  2,
                  "WATSON",
                  "THERESA",
                  1
                ],
                [
                  73,
                  2,
                  "BROOKS",
                  "BEVERLY",
                  1
                ],
                [
                  74,
                  1,
                  "KELLY",
                  "DENISE",
                  1
                ],
                [
                  75,
                  2,
                  "SANDERS",
                  "TAMMY",
                  1
                ],
                [
                  76,
                  2,
                  "PRICE",
                  "IRENE",
                  1
                ],
                [
                  77,
                  2,
                  "BENNETT",
                  "JANE",
                  1
                ],
                [
                  78,
                  1,
                  "WOOD",
                  "LORI",
                  1
                ],
                [
                  79,
                  1,
                  "BARNES",
                  "RACHEL",
                  1
                ],
                [
                  80,
                  1,
                  "ROSS",
                  "MARILYN",
                  1
                ],
                [
                  81,
                  1,
                  "HENDERSON",
                  "ANDREA",
                  1
                ],
                [
                  82,
                  1,
                  "COLEMAN",
                  "KATHRYN",
                  1
                ],
                [
                  83,
                  1,
                  "JENKINS",
                  "LOUISE",
                  1
                ],
                [
                  84,
                  2,
                  "PERRY",
                  "SARA",
                  1
                ],
                [
                  85,
                  2,
                  "POWELL",
                  "ANNE",
                  1
                ],
                [
                  86,
                  2,
                  "LONG",
                  "JACQUELINE",
                  1
                ],
                [
                  87,
                  1,
                  "PATTERSON",
                  "WANDA",
                  1
                ],
                [
                  88,
                  2,
                  "HUGHES",
                  "BONNIE",
                  1
                ],
                [
                  89,
                  1,
                  "FLORES",
                  "JULIA",
                  1
                ],
                [
                  90,
                  2,
                  "WASHINGTON",
                  "RUBY",
                  1
                ],
                [
                  91,
                  2,
                  "BUTLER",
                  "LOIS",
                  1
                ],
                [
                  92,
                  2,
                  "SIMMONS",
                  "TINA",
                  1
                ],
                [
                  93,
                  1,
                  "FOSTER",
                  "PHYLLIS",
                  1
                ],
                [
                  94,
                  1,
                  "GONZALES",
                  "NORMA",
                  1
                ],
                [
                  95,
                  2,
                  "BRYANT",
                  "PAULA",
                  1
                ],
                [
                  96,
                  1,
                  "ALEXANDER",
                  "DIANA",
                  1
                ],
                [
                  97,
                  2,
                  "RUSSELL",
                  "ANNIE",
                  1
                ],
                [
                  98,
                  1,
                  "GRIFFIN",
                  "LILLIAN",
                  1
                ],
                [
                  99,
                  2,
                  "DIAZ",
                  "EMILY",
                  1
                ],
                [
                  100,
                  1,
                  "HAYES",
                  "ROBIN",
                  1
                ],
                [
                  101,
                  1,
                  "MYERS",
                  "PEGGY",
                  1
                ],
                [
                  102,
                  1,
                  "FORD",
                  "CRYSTAL",
                  1
                ],
                [
                  103,
                  1,
                  "HAMILTON",
                  "GLADYS",
                  1
                ],
                [
                  104,
                  1,
                  "GRAHAM",
                  "RITA",
                  1
                ],
                [
                  105,
                  1,
                  "SULLIVAN",
                  "DAWN",
                  1
                ],
                [
                  106,
                  1,
                  "WALLACE",
                  "CONNIE",
                  1
                ],
                [
                  107,
                  1,
                  "WOODS",
                  "FLORENCE",
                  1
                ],
                [
                  108,
                  1,
                  "COLE",
                  "TRACY",
                  1
                ],
                [
                  109,
                  2,
                  "WEST",
                  "EDNA",
                  1
                ],
                [
                  110,
                  2,
                  "JORDAN",
                  "TIFFANY",
                  1
                ],
                [
                  111,
                  1,
                  "OWENS",
                  "CARMEN",
                  1
                ],
                [
                  112,
                  2,
                  "REYNOLDS",
                  "ROSA",
                  1
                ],
                [
                  113,
                  2,
                  "FISHER",
                  "CINDY",
                  1
                ],
                [
                  114,
                  2,
                  "ELLIS",
                  "GRACE",
                  1
                ],
                [
                  115,
                  1,
                  "HARRISON",
                  "WENDY",
                  1
                ],
                [
                  116,
                  1,
                  "GIBSON",
                  "VICTORIA",
                  1
                ],
                [
                  117,
                  1,
                  "MCDONALD",
                  "EDITH",
                  1
                ],
                [
                  118,
                  1,
                  "CRUZ",
                  "KIM",
                  1
                ],
                [
                  119,
                  1,
                  "MARSHALL",
                  "SHERRY",
                  1
                ],
                [
                  120,
                  2,
                  "ORTIZ",
                  "SYLVIA",
                  1
                ],
                [
                  121,
                  1,
                  "GOMEZ",
                  "JOSEPHINE",
                  1
                ],
                [
                  122,
                  1,
                  "MURRAY",
                  "THELMA",
                  1
                ],
                [
                  123,
                  2,
                  "FREEMAN",
                  "SHANNON",
                  1
                ],
                [
                  124,
                  1,
                  "WELLS",
                  "SHEILA",
                  0
                ],
                [
                  125,
                  1,
                  "WEBB",
                  "ETHEL",
                  1
                ],
                [
                  126,
                  1,
                  "SIMPSON",
                  "ELLEN",
                  1
                ],
                [
                  127,
                  2,
                  "STEVENS",
                  "ELAINE",
                  1
                ],
                [
                  128,
                  1,
                  "TUCKER",
                  "MARJORIE",
                  1
                ],
                [
                  129,
                  1,
                  "PORTER",
                  "CARRIE",
                  1
                ],
                [
                  130,
                  1,
                  "HUNTER",
                  "CHARLOTTE",
                  1
                ],
                [
                  131,
                  2,
                  "HICKS",
                  "MONICA",
                  1
                ],
                [
                  132,
                  2,
                  "CRAWFORD",
                  "ESTHER",
                  1
                ],
                [
                  133,
                  1,
                  "HENRY",
                  "PAULINE",
                  1
                ],
                [
                  134,
                  1,
                  "BOYD",
                  "EMMA",
                  1
                ],
                [
                  135,
                  2,
                  "MASON",
                  "JUANITA",
                  1
                ],
                [
                  136,
                  2,
                  "MORALES",
                  "ANITA",
                  1
                ],
                [
                  137,
                  2,
                  "KENNEDY",
                  "RHONDA",
                  1
                ],
                [
                  138,
                  1,
                  "WARREN",
                  "HAZEL",
                  1
                ],
                [
                  139,
                  1,
                  "DIXON",
                  "AMBER",
                  1
                ],
                [
                  140,
                  1,
                  "RAMOS",
                  "EVA",
                  1
                ],
                [
                  141,
                  1,
                  "REYES",
                  "DEBBIE",
                  1
                ],
                [
                  142,
                  1,
                  "BURNS",
                  "APRIL",
                  1
                ],
                [
                  143,
                  1,
                  "GORDON",
                  "LESLIE",
                  1
                ],
                [
                  144,
                  1,
                  "SHAW",
                  "CLARA",
                  1
                ],
                [
                  145,
                  1,
                  "HOLMES",
                  "LUCILLE",
                  1
                ],
                [
                  146,
                  1,
                  "RICE",
                  "JAMIE",
                  1
                ],
                [
                  147,
                  2,
                  "ROBERTSON",
                  "JOANNE",
                  1
                ],
                [
                  148,
                  1,
                  "HUNT",
                  "ELEANOR",
                  1
                ],
                [
                  149,
                  1,
                  "BLACK",
                  "VALERIE",
                  1
                ],
                [
                  150,
                  2,
                  "DANIELS",
                  "DANIELLE",
                  1
                ],
                [
                  151,
                  2,
                  "PALMER",
                  "MEGAN",
                  1
                ],
                [
                  152,
                  1,
                  "MILLS",
                  "ALICIA",
                  1
                ],
                [
                  153,
                  2,
                  "NICHOLS",
                  "SUZANNE",
                  1
                ],
                [
                  154,
                  2,
                  "GRANT",
                  "MICHELE",
                  1
                ],
                [
                  155,
                  1,
                  "KNIGHT",
                  "GAIL",
                  1
                ],
                [
                  156,
                  1,
                  "FERGUSON",
                  "BERTHA",
                  1
                ],
                [
                  157,
                  2,
                  "ROSE",
                  "DARLENE",
                  1
                ],
                [
                  158,
                  1,
                  "STONE",
                  "VERONICA",
                  1
                ],
                [
                  159,
                  1,
                  "HAWKINS",
                  "JILL",
                  1
                ],
                [
                  160,
                  2,
                  "DUNN",
                  "ERIN",
                  1
                ],
                [
                  161,
                  1,
                  "PERKINS",
                  "GERALDINE",
                  1
                ],
                [
                  162,
                  2,
                  "HUDSON",
                  "LAUREN",
                  1
                ],
                [
                  163,
                  1,
                  "SPENCER",
                  "CATHY",
                  1
                ],
                [
                  164,
                  2,
                  "GARDNER",
                  "JOANN",
                  1
                ],
                [
                  165,
                  2,
                  "STEPHENS",
                  "LORRAINE",
                  1
                ],
                [
                  166,
                  1,
                  "PAYNE",
                  "LYNN",
                  1
                ],
                [
                  167,
                  2,
                  "PIERCE",
                  "SALLY",
                  1
                ],
                [
                  168,
                  1,
                  "BERRY",
                  "REGINA",
                  1
                ],
                [
                  169,
                  2,
                  "MATTHEWS",
                  "ERICA",
                  0
                ],
                [
                  170,
                  1,
                  "ARNOLD",
                  "BEATRICE",
                  1
                ],
                [
                  171,
                  2,
                  "WAGNER",
                  "DOLORES",
                  1
                ],
                [
                  172,
                  1,
                  "WILLIS",
                  "BERNICE",
                  1
                ],
                [
                  173,
                  1,
                  "RAY",
                  "AUDREY",
                  1
                ],
                [
                  174,
                  2,
                  "WATKINS",
                  "YVONNE",
                  1
                ],
                [
                  175,
                  1,
                  "OLSON",
                  "ANNETTE",
                  1
                ],
                [
                  176,
                  1,
                  "CARROLL",
                  "JUNE",
                  1
                ],
                [
                  177,
                  2,
                  "DUNCAN",
                  "SAMANTHA",
                  1
                ],
                [
                  178,
                  2,
                  "SNYDER",
                  "MARION",
                  1
                ],
                [
                  179,
                  1,
                  "HART",
                  "DANA",
                  1
                ],
                [
                  180,
                  2,
                  "CUNNINGHAM",
                  "STACY",
                  1
                ],
                [
                  181,
                  2,
                  "BRADLEY",
                  "ANA",
                  1
                ],
                [
                  182,
                  1,
                  "LANE",
                  "RENEE",
                  1
                ],
                [
                  183,
                  2,
                  "ANDREWS",
                  "IDA",
                  1
                ],
                [
                  184,
                  1,
                  "RUIZ",
                  "VIVIAN",
                  1
                ],
                [
                  185,
                  1,
                  "HARPER",
                  "ROBERTA",
                  1
                ],
                [
                  186,
                  2,
                  "FOX",
                  "HOLLY",
                  1
                ],
                [
                  187,
                  2,
                  "RILEY",
                  "BRITTANY",
                  1
                ],
                [
                  188,
                  1,
                  "ARMSTRONG",
                  "MELANIE",
                  1
                ],
                [
                  189,
                  1,
                  "CARPENTER",
                  "LORETTA",
                  1
                ],
                [
                  190,
                  2,
                  "WEAVER",
                  "YOLANDA",
                  1
                ],
                [
                  191,
                  1,
                  "GREENE",
                  "JEANETTE",
                  1
                ],
                [
                  192,
                  1,
                  "LAWRENCE",
                  "LAURIE",
                  1
                ],
                [
                  193,
                  2,
                  "ELLIOTT",
                  "KATIE",
                  1
                ],
                [
                  194,
                  2,
                  "CHAVEZ",
                  "KRISTEN",
                  1
                ],
                [
                  195,
                  1,
                  "SIMS",
                  "VANESSA",
                  1
                ],
                [
                  196,
                  1,
                  "AUSTIN",
                  "ALMA",
                  1
                ],
                [
                  197,
                  2,
                  "PETERS",
                  "SUE",
                  1
                ],
                [
                  198,
                  2,
                  "KELLEY",
                  "ELSIE",
                  1
                ],
                [
                  199,
                  2,
                  "FRANKLIN",
                  "BETH",
                  1
                ],
                [
                  200,
                  2,
                  "LAWSON",
                  "JEANNE",
                  1
                ],
                [
                  201,
                  1,
                  "FIELDS",
                  "VICKI",
                  1
                ],
                [
                  202,
                  2,
                  "GUTIERREZ",
                  "CARLA",
                  1
                ],
                [
                  203,
                  1,
                  "RYAN",
                  "TARA",
                  1
                ],
                [
                  204,
                  1,
                  "SCHMIDT",
                  "ROSEMARY",
                  1
                ],
                [
                  205,
                  2,
                  "CARR",
                  "EILEEN",
                  1
                ],
                [
                  206,
                  1,
                  "VASQUEZ",
                  "TERRI",
                  1
                ],
                [
                  207,
                  1,
                  "CASTILLO",
                  "GERTRUDE",
                  1
                ],
                [
                  208,
                  1,
                  "WHEELER",
                  "LUCY",
                  1
                ],
                [
                  209,
                  2,
                  "CHAPMAN",
                  "TONYA",
                  1
                ],
                [
                  210,
                  2,
                  "OLIVER",
                  "ELLA",
                  1
                ],
                [
                  211,
                  1,
                  "MONTGOMERY",
                  "STACEY",
                  1
                ],
                [
                  212,
                  2,
                  "RICHARDS",
                  "WILMA",
                  1
                ],
                [
                  213,
                  1,
                  "WILLIAMSON",
                  "GINA",
                  1
                ],
                [
                  214,
                  1,
                  "JOHNSTON",
                  "KRISTIN",
                  1
                ],
                [
                  215,
                  2,
                  "BANKS",
                  "JESSIE",
                  1
                ],
                [
                  216,
                  1,
                  "MEYER",
                  "NATALIE",
                  1
                ],
                [
                  217,
                  2,
                  "BISHOP",
                  "AGNES",
                  1
                ],
                [
                  218,
                  1,
                  "MCCOY",
                  "VERA",
                  1
                ],
                [
                  219,
                  2,
                  "HOWELL",
                  "WILLIE",
                  1
                ],
                [
                  220,
                  2,
                  "ALVAREZ",
                  "CHARLENE",
                  1
                ],
                [
                  221,
                  1,
                  "MORRISON",
                  "BESSIE",
                  1
                ],
                [
                  222,
                  2,
                  "HANSEN",
                  "DELORES",
                  1
                ],
                [
                  223,
                  1,
                  "FERNANDEZ",
                  "MELINDA",
                  1
                ],
                [
                  224,
                  2,
                  "GARZA",
                  "PEARL",
                  1
                ],
                [
                  225,
                  1,
                  "HARVEY",
                  "ARLENE",
                  1
                ],
                [
                  226,
                  2,
                  "LITTLE",
                  "MAUREEN",
                  1
                ],
                [
                  227,
                  1,
                  "BURTON",
                  "COLLEEN",
                  1
                ],
                [
                  228,
                  2,
                  "STANLEY",
                  "ALLISON",
                  1
                ],
                [
                  229,
                  1,
                  "NGUYEN",
                  "TAMARA",
                  1
                ],
                [
                  230,
                  2,
                  "GEORGE",
                  "JOY",
                  1
                ],
                [
                  231,
                  1,
                  "JACOBS",
                  "GEORGIA",
                  1
                ],
                [
                  232,
                  2,
                  "REID",
                  "CONSTANCE",
                  1
                ],
                [
                  233,
                  2,
                  "KIM",
                  "LILLIE",
                  1
                ],
                [
                  234,
                  1,
                  "FULLER",
                  "CLAUDIA",
                  1
                ],
                [
                  235,
                  1,
                  "LYNCH",
                  "JACKIE",
                  1
                ],
                [
                  236,
                  1,
                  "DEAN",
                  "MARCIA",
                  1
                ],
                [
                  237,
                  1,
                  "GILBERT",
                  "TANYA",
                  1
                ],
                [
                  238,
                  1,
                  "GARRETT",
                  "NELLIE",
                  1
                ],
                [
                  239,
                  2,
                  "ROMERO",
                  "MINNIE",
                  1
                ],
                [
                  240,
                  1,
                  "WELCH",
                  "MARLENE",
                  1
                ],
                [
                  241,
                  2,
                  "LARSON",
                  "HEIDI",
                  0
                ],
                [
                  242,
                  1,
                  "FRAZIER",
                  "GLENDA",
                  1
                ],
                [
                  243,
                  1,
                  "BURKE",
                  "LYDIA",
                  1
                ],
                [
                  244,
                  2,
                  "HANSON",
                  "VIOLA",
                  1
                ],
                [
                  245,
                  1,
                  "DAY",
                  "COURTNEY",
                  1
                ],
                [
                  246,
                  1,
                  "MENDOZA",
                  "MARIAN",
                  1
                ],
                [
                  247,
                  1,
                  "MORENO",
                  "STELLA",
                  1
                ],
                [
                  248,
                  1,
                  "BOWMAN",
                  "CAROLINE",
                  1
                ],
                [
                  249,
                  2,
                  "MEDINA",
                  "DORA",
                  1
                ],
                [
                  250,
                  2,
                  "FOWLER",
                  "JO",
                  1
                ],
                [
                  251,
                  2,
                  "BREWER",
                  "VICKIE",
                  1
                ],
                [
                  252,
                  2,
                  "HOFFMAN",
                  "MATTIE",
                  1
                ],
                [
                  253,
                  1,
                  "CARLSON",
                  "TERRY",
                  1
                ],
                [
                  254,
                  2,
                  "SILVA",
                  "MAXINE",
                  1
                ],
                [
                  255,
                  2,
                  "PEARSON",
                  "IRMA",
                  1
                ],
                [
                  256,
                  2,
                  "HOLLAND",
                  "MABEL",
                  1
                ],
                [
                  257,
                  2,
                  "DOUGLAS",
                  "MARSHA",
                  1
                ],
                [
                  258,
                  1,
                  "FLEMING",
                  "MYRTLE",
                  1
                ],
                [
                  259,
                  2,
                  "JENSEN",
                  "LENA",
                  1
                ],
                [
                  260,
                  1,
                  "VARGAS",
                  "CHRISTY",
                  1
                ],
                [
                  261,
                  1,
                  "BYRD",
                  "DEANNA",
                  1
                ],
                [
                  262,
                  2,
                  "DAVIDSON",
                  "PATSY",
                  1
                ],
                [
                  263,
                  1,
                  "HOPKINS",
                  "HILDA",
                  1
                ],
                [
                  264,
                  1,
                  "MAY",
                  "GWENDOLYN",
                  1
                ],
                [
                  265,
                  2,
                  "TERRY",
                  "JENNIE",
                  1
                ],
                [
                  266,
                  2,
                  "HERRERA",
                  "NORA",
                  1
                ],
                [
                  267,
                  1,
                  "WADE",
                  "MARGIE",
                  1
                ],
                [
                  268,
                  1,
                  "SOTO",
                  "NINA",
                  1
                ],
                [
                  269,
                  1,
                  "WALTERS",
                  "CASSANDRA",
                  1
                ],
                [
                  270,
                  1,
                  "CURTIS",
                  "LEAH",
                  1
                ],
                [
                  271,
                  1,
                  "NEAL",
                  "PENNY",
                  0
                ],
                [
                  272,
                  1,
                  "CALDWELL",
                  "KAY",
                  1
                ],
                [
                  273,
                  2,
                  "LOWE",
                  "PRISCILLA",
                  1
                ],
                [
                  274,
                  1,
                  "JENNINGS",
                  "NAOMI",
                  1
                ],
                [
                  275,
                  2,
                  "BARNETT",
                  "CAROLE",
                  1
                ],
                [
                  276,
                  1,
                  "GRAVES",
                  "BRANDY",
                  1
                ],
                [
                  277,
                  2,
                  "JIMENEZ",
                  "OLGA",
                  1
                ],
                [
                  278,
                  2,
                  "HORTON",
                  "BILLIE",
                  1
                ],
                [
                  279,
                  2,
                  "SHELTON",
                  "DIANNE",
                  1
                ],
                [
                  280,
                  2,
                  "BARRETT",
                  "TRACEY",
                  1
                ],
                [
                  281,
                  2,
                  "OBRIEN",
                  "LEONA",
                  1
                ],
                [
                  282,
                  2,
                  "CASTRO",
                  "JENNY",
                  1
                ],
                [
                  283,
                  1,
                  "SUTTON",
                  "FELICIA",
                  1
                ],
                [
                  284,
                  1,
                  "GREGORY",
                  "SONIA",
                  1
                ],
                [
                  285,
                  1,
                  "MCKINNEY",
                  "MIRIAM",
                  1
                ],
                [
                  286,
                  1,
                  "LUCAS",
                  "VELMA",
                  1
                ],
                [
                  287,
                  2,
                  "MILES",
                  "BECKY",
                  1
                ],
                [
                  288,
                  1,
                  "CRAIG",
                  "BOBBIE",
                  1
                ],
                [
                  289,
                  1,
                  "RODRIQUEZ",
                  "VIOLET",
                  1
                ],
                [
                  290,
                  1,
                  "CHAMBERS",
                  "KRISTINA",
                  1
                ],
                [
                  291,
                  1,
                  "HOLT",
                  "TONI",
                  1
                ],
                [
                  292,
                  2,
                  "LAMBERT",
                  "MISTY",
                  1
                ],
                [
                  293,
                  2,
                  "FLETCHER",
                  "MAE",
                  1
                ],
                [
                  294,
                  2,
                  "WATTS",
                  "SHELLY",
                  1
                ],
                [
                  295,
                  1,
                  "BATES",
                  "DAISY",
                  1
                ],
                [
                  296,
                  2,
                  "HALE",
                  "RAMONA",
                  1
                ],
                [
                  297,
                  1,
                  "RHODES",
                  "SHERRI",
                  1
                ],
                [
                  298,
                  1,
                  "PENA",
                  "ERIKA",
                  1
                ],
                [
                  299,
                  2,
                  "GANNON",
                  "JAMES",
                  1
                ],
                [
                  300,
                  1,
                  "FARNSWORTH",
                  "JOHN",
                  1
                ],
                [
                  301,
                  2,
                  "BAUGHMAN",
                  "ROBERT",
                  1
                ],
                [
                  302,
                  1,
                  "SILVERMAN",
                  "MICHAEL",
                  1
                ],
                [
                  303,
                  2,
                  "SATTERFIELD",
                  "WILLIAM",
                  1
                ],
                [
                  304,
                  2,
                  "ROYAL",
                  "DAVID",
                  1
                ],
                [
                  305,
                  1,
                  "MCCRARY",
                  "RICHARD",
                  1
                ],
                [
                  306,
                  1,
                  "KOWALSKI",
                  "CHARLES",
                  1
                ],
                [
                  307,
                  2,
                  "JOY",
                  "JOSEPH",
                  1
                ],
                [
                  308,
                  1,
                  "GRIGSBY",
                  "THOMAS",
                  1
                ],
                [
                  309,
                  1,
                  "GRECO",
                  "CHRISTOPHER",
                  1
                ],
                [
                  310,
                  2,
                  "CABRAL",
                  "DANIEL",
                  1
                ],
                [
                  311,
                  2,
                  "TROUT",
                  "PAUL",
                  1
                ],
                [
                  312,
                  2,
                  "RINEHART",
                  "MARK",
                  1
                ],
                [
                  313,
                  2,
                  "MAHON",
                  "DONALD",
                  1
                ],
                [
                  314,
                  1,
                  "LINTON",
                  "GEORGE",
                  1
                ],
                [
                  315,
                  2,
                  "GOODEN",
                  "KENNETH",
                  0
                ],
                [
                  316,
                  1,
                  "CURLEY",
                  "STEVEN",
                  1
                ],
                [
                  317,
                  2,
                  "BAUGH",
                  "EDWARD",
                  1
                ],
                [
                  318,
                  1,
                  "WYMAN",
                  "BRIAN",
                  1
                ],
                [
                  319,
                  2,
                  "WEINER",
                  "RONALD",
                  1
                ],
                [
                  320,
                  2,
                  "SCHWAB",
                  "ANTHONY",
                  1
                ],
                [
                  321,
                  1,
                  "SCHULER",
                  "KEVIN",
                  1
                ],
                [
                  322,
                  1,
                  "MORRISSEY",
                  "JASON",
                  1
                ],
                [
                  323,
                  2,
                  "MAHAN",
                  "MATTHEW",
                  1
                ],
                [
                  324,
                  2,
                  "COY",
                  "GARY",
                  1
                ],
                [
                  325,
                  1,
                  "BUNN",
                  "TIMOTHY",
                  1
                ],
                [
                  326,
                  1,
                  "ANDREW",
                  "JOSE",
                  1
                ],
                [
                  327,
                  2,
                  "THRASHER",
                  "LARRY",
                  1
                ],
                [
                  328,
                  2,
                  "SPEAR",
                  "JEFFREY",
                  1
                ],
                [
                  329,
                  2,
                  "WAGGONER",
                  "FRANK",
                  1
                ],
                [
                  330,
                  1,
                  "SHELLEY",
                  "SCOTT",
                  1
                ],
                [
                  331,
                  1,
                  "ROBERT",
                  "ERIC",
                  1
                ],
                [
                  332,
                  1,
                  "QUALLS",
                  "STEPHEN",
                  1
                ],
                [
                  333,
                  2,
                  "PURDY",
                  "ANDREW",
                  1
                ],
                [
                  334,
                  2,
                  "MCWHORTER",
                  "RAYMOND",
                  1
                ],
                [
                  335,
                  1,
                  "MAULDIN",
                  "GREGORY",
                  1
                ],
                [
                  336,
                  1,
                  "MARK",
                  "JOSHUA",
                  1
                ],
                [
                  337,
                  1,
                  "JORDON",
                  "JERRY",
                  1
                ],
                [
                  338,
                  1,
                  "GILMAN",
                  "DENNIS",
                  1
                ],
                [
                  339,
                  2,
                  "PERRYMAN",
                  "WALTER",
                  1
                ],
                [
                  340,
                  1,
                  "NEWSOM",
                  "PATRICK",
                  1
                ],
                [
                  341,
                  1,
                  "MENARD",
                  "PETER",
                  1
                ],
                [
                  342,
                  1,
                  "MARTINO",
                  "HAROLD",
                  1
                ],
                [
                  343,
                  1,
                  "GRAF",
                  "DOUGLAS",
                  1
                ],
                [
                  344,
                  1,
                  "BILLINGSLEY",
                  "HENRY",
                  1
                ],
                [
                  345,
                  1,
                  "ARTIS",
                  "CARL",
                  1
                ],
                [
                  346,
                  1,
                  "SIMPKINS",
                  "ARTHUR",
                  1
                ],
                [
                  347,
                  2,
                  "SALISBURY",
                  "RYAN",
                  1
                ],
                [
                  348,
                  2,
                  "QUINTANILLA",
                  "ROGER",
                  1
                ],
                [
                  349,
                  2,
                  "GILLILAND",
                  "JOE",
                  1
                ],
                [
                  350,
                  1,
                  "FRALEY",
                  "JUAN",
                  1
                ],
                [
                  351,
                  1,
                  "FOUST",
                  "JACK",
                  1
                ],
                [
                  352,
                  1,
                  "CROUSE",
                  "ALBERT",
                  1
                ],
                [
                  353,
                  1,
                  "SCARBOROUGH",
                  "JONATHAN",
                  1
                ],
                [
                  354,
                  2,
                  "NGO",
                  "JUSTIN",
                  1
                ],
                [
                  355,
                  2,
                  "GRISSOM",
                  "TERRY",
                  1
                ],
                [
                  356,
                  2,
                  "FULTZ",
                  "GERALD",
                  1
                ],
                [
                  357,
                  1,
                  "RICO",
                  "KEITH",
                  1
                ],
                [
                  358,
                  2,
                  "MARLOW",
                  "SAMUEL",
                  1
                ],
                [
                  359,
                  2,
                  "MARKHAM",
                  "WILLIE",
                  1
                ],
                [
                  360,
                  2,
                  "MADRIGAL",
                  "RALPH",
                  1
                ],
                [
                  361,
                  2,
                  "LAWTON",
                  "LAWRENCE",
                  1
                ],
                [
                  362,
                  1,
                  "BARFIELD",
                  "NICHOLAS",
                  1
                ],
                [
                  363,
                  2,
                  "WHITING",
                  "ROY",
                  1
                ],
                [
                  364,
                  1,
                  "VARNEY",
                  "BENJAMIN",
                  1
                ],
                [
                  365,
                  2,
                  "SCHWARZ",
                  "BRUCE",
                  1
                ],
                [
                  366,
                  1,
                  "HUEY",
                  "BRANDON",
                  1
                ],
                [
                  367,
                  1,
                  "GOOCH",
                  "ADAM",
                  1
                ],
                [
                  368,
                  1,
                  "ARCE",
                  "HARRY",
                  0
                ],
                [
                  369,
                  2,
                  "WHEAT",
                  "FRED",
                  1
                ],
                [
                  370,
                  2,
                  "TRUONG",
                  "WAYNE",
                  1
                ],
                [
                  371,
                  1,
                  "POULIN",
                  "BILLY",
                  1
                ],
                [
                  372,
                  2,
                  "MACKENZIE",
                  "STEVE",
                  1
                ],
                [
                  373,
                  1,
                  "LEONE",
                  "LOUIS",
                  1
                ],
                [
                  374,
                  2,
                  "HURTADO",
                  "JEREMY",
                  1
                ],
                [
                  375,
                  2,
                  "SELBY",
                  "AARON",
                  1
                ],
                [
                  376,
                  1,
                  "GAITHER",
                  "RANDY",
                  1
                ],
                [
                  377,
                  1,
                  "FORTNER",
                  "HOWARD",
                  1
                ],
                [
                  378,
                  1,
                  "CULPEPPER",
                  "EUGENE",
                  1
                ],
                [
                  379,
                  1,
                  "COUGHLIN",
                  "CARLOS",
                  1
                ],
                [
                  380,
                  1,
                  "BRINSON",
                  "RUSSELL",
                  1
                ],
                [
                  381,
                  2,
                  "BOUDREAU",
                  "BOBBY",
                  1
                ],
                [
                  382,
                  2,
                  "BARKLEY",
                  "VICTOR",
                  1
                ],
                [
                  383,
                  1,
                  "BALES",
                  "MARTIN",
                  1
                ],
                [
                  384,
                  2,
                  "STEPP",
                  "ERNEST",
                  1
                ],
                [
                  385,
                  1,
                  "HOLM",
                  "PHILLIP",
                  1
                ],
                [
                  386,
                  1,
                  "TAN",
                  "TODD",
                  1
                ],
                [
                  387,
                  2,
                  "SCHILLING",
                  "JESSE",
                  1
                ],
                [
                  388,
                  2,
                  "MORRELL",
                  "CRAIG",
                  1
                ],
                [
                  389,
                  1,
                  "KAHN",
                  "ALAN",
                  1
                ],
                [
                  390,
                  1,
                  "HEATON",
                  "SHAWN",
                  1
                ],
                [
                  391,
                  1,
                  "GAMEZ",
                  "CLARENCE",
                  1
                ],
                [
                  392,
                  2,
                  "DOUGLASS",
                  "SEAN",
                  1
                ],
                [
                  393,
                  1,
                  "CAUSEY",
                  "PHILIP",
                  1
                ],
                [
                  394,
                  2,
                  "BROTHERS",
                  "CHRIS",
                  1
                ],
                [
                  395,
                  2,
                  "TURPIN",
                  "JOHNNY",
                  1
                ],
                [
                  396,
                  1,
                  "SHANKS",
                  "EARL",
                  1
                ],
                [
                  397,
                  1,
                  "SCHRADER",
                  "JIMMY",
                  1
                ],
                [
                  398,
                  1,
                  "MEEK",
                  "ANTONIO",
                  1
                ],
                [
                  399,
                  1,
                  "ISOM",
                  "DANNY",
                  1
                ],
                [
                  400,
                  2,
                  "HARDISON",
                  "BRYAN",
                  1
                ],
                [
                  401,
                  2,
                  "CARRANZA",
                  "TONY",
                  1
                ],
                [
                  402,
                  1,
                  "YANEZ",
                  "LUIS",
                  1
                ],
                [
                  403,
                  1,
                  "WAY",
                  "MIKE",
                  1
                ],
                [
                  404,
                  2,
                  "SCROGGINS",
                  "STANLEY",
                  1
                ],
                [
                  405,
                  1,
                  "SCHOFIELD",
                  "LEONARD",
                  1
                ],
                [
                  406,
                  1,
                  "RUNYON",
                  "NATHAN",
                  0
                ],
                [
                  407,
                  1,
                  "RATCLIFF",
                  "DALE",
                  1
                ],
                [
                  408,
                  1,
                  "MURRELL",
                  "MANUEL",
                  1
                ],
                [
                  409,
                  2,
                  "MOELLER",
                  "RODNEY",
                  1
                ],
                [
                  410,
                  2,
                  "IRBY",
                  "CURTIS",
                  1
                ],
                [
                  411,
                  1,
                  "CURRIER",
                  "NORMAN",
                  1
                ],
                [
                  412,
                  2,
                  "BUTTERFIELD",
                  "ALLEN",
                  1
                ],
                [
                  413,
                  2,
                  "YEE",
                  "MARVIN",
                  1
                ],
                [
                  414,
                  1,
                  "RALSTON",
                  "VINCENT",
                  1
                ],
                [
                  415,
                  1,
                  "PULLEN",
                  "GLENN",
                  1
                ],
                [
                  416,
                  2,
                  "PINSON",
                  "JEFFERY",
                  1
                ],
                [
                  417,
                  1,
                  "ESTEP",
                  "TRAVIS",
                  1
                ],
                [
                  418,
                  2,
                  "EAST",
                  "JEFF",
                  1
                ],
                [
                  419,
                  1,
                  "CARBONE",
                  "CHAD",
                  1
                ],
                [
                  420,
                  1,
                  "LANCE",
                  "JACOB",
                  1
                ],
                [
                  421,
                  1,
                  "HAWKS",
                  "LEE",
                  1
                ],
                [
                  422,
                  1,
                  "ELLINGTON",
                  "MELVIN",
                  1
                ],
                [
                  423,
                  2,
                  "CASILLAS",
                  "ALFRED",
                  1
                ],
                [
                  424,
                  2,
                  "SPURLOCK",
                  "KYLE",
                  1
                ],
                [
                  425,
                  2,
                  "SIKES",
                  "FRANCIS",
                  1
                ],
                [
                  426,
                  1,
                  "MOTLEY",
                  "BRADLEY",
                  1
                ],
                [
                  427,
                  2,
                  "MCCARTNEY",
                  "JESUS",
                  1
                ],
                [
                  428,
                  2,
                  "KRUGER",
                  "HERBERT",
                  1
                ],
                [
                  429,
                  2,
                  "ISBELL",
                  "FREDERICK",
                  1
                ],
                [
                  430,
                  1,
                  "HOULE",
                  "RAY",
                  1
                ],
                [
                  431,
                  2,
                  "FRANCISCO",
                  "JOEL",
                  1
                ],
                [
                  432,
                  1,
                  "BURK",
                  "EDWIN",
                  1
                ],
                [
                  433,
                  1,
                  "BONE",
                  "DON",
                  1
                ],
                [
                  434,
                  1,
                  "TOMLIN",
                  "EDDIE",
                  1
                ],
                [
                  435,
                  2,
                  "SHELBY",
                  "RICKY",
                  1
                ],
                [
                  436,
                  1,
                  "QUIGLEY",
                  "TROY",
                  1
                ],
                [
                  437,
                  2,
                  "NEUMANN",
                  "RANDALL",
                  1
                ],
                [
                  438,
                  1,
                  "LOVELACE",
                  "BARRY",
                  1
                ],
                [
                  439,
                  2,
                  "FENNELL",
                  "ALEXANDER",
                  1
                ],
                [
                  440,
                  1,
                  "COLBY",
                  "BERNARD",
                  1
                ],
                [
                  441,
                  1,
                  "CHEATHAM",
                  "MARIO",
                  1
                ],
                [
                  442,
                  1,
                  "BUSTAMANTE",
                  "LEROY",
                  1
                ],
                [
                  443,
                  2,
                  "SKIDMORE",
                  "FRANCISCO",
                  1
                ],
                [
                  444,
                  2,
                  "HIDALGO",
                  "MARCUS",
                  1
                ],
                [
                  445,
                  1,
                  "FORMAN",
                  "MICHEAL",
                  1
                ],
                [
                  446,
                  2,
                  "CULP",
                  "THEODORE",
                  0
                ],
                [
                  447,
                  1,
                  "BOWENS",
                  "CLIFFORD",
                  1
                ],
                [
                  448,
                  1,
                  "BETANCOURT",
                  "MIGUEL",
                  1
                ],
                [
                  449,
                  2,
                  "AQUINO",
                  "OSCAR",
                  1
                ],
                [
                  450,
                  1,
                  "ROBB",
                  "JAY",
                  1
                ],
                [
                  451,
                  1,
                  "REA",
                  "JIM",
                  1
                ],
                [
                  452,
                  1,
                  "MILNER",
                  "TOM",
                  1
                ],
                [
                  453,
                  1,
                  "MARTEL",
                  "CALVIN",
                  1
                ],
                [
                  454,
                  2,
                  "GRESHAM",
                  "ALEX",
                  1
                ],
                [
                  455,
                  2,
                  "WILES",
                  "JON",
                  1
                ],
                [
                  456,
                  2,
                  "RICKETTS",
                  "RONNIE",
                  1
                ],
                [
                  457,
                  2,
                  "GAVIN",
                  "BILL",
                  1
                ],
                [
                  458,
                  1,
                  "DOWD",
                  "LLOYD",
                  1
                ],
                [
                  459,
                  1,
                  "COLLAZO",
                  "TOMMY",
                  1
                ],
                [
                  460,
                  1,
                  "BOSTIC",
                  "LEON",
                  1
                ],
                [
                  461,
                  1,
                  "BLAKELY",
                  "DEREK",
                  1
                ],
                [
                  462,
                  2,
                  "SHERROD",
                  "WARREN",
                  1
                ],
                [
                  463,
                  2,
                  "POWER",
                  "DARRELL",
                  1
                ],
                [
                  464,
                  1,
                  "KENYON",
                  "JEROME",
                  1
                ],
                [
                  465,
                  1,
                  "GANDY",
                  "FLOYD",
                  1
                ],
                [
                  466,
                  1,
                  "EBERT",
                  "LEO",
                  1
                ],
                [
                  467,
                  2,
                  "DELOACH",
                  "ALVIN",
                  1
                ],
                [
                  468,
                  1,
                  "CARY",
                  "TIM",
                  1
                ],
                [
                  469,
                  2,
                  "BULL",
                  "WESLEY",
                  1
                ],
                [
                  470,
                  1,
                  "ALLARD",
                  "GORDON",
                  1
                ],
                [
                  471,
                  1,
                  "SAUER",
                  "DEAN",
                  1
                ],
                [
                  472,
                  1,
                  "ROBINS",
                  "GREG",
                  1
                ],
                [
                  473,
                  2,
                  "OLIVARES",
                  "JORGE",
                  1
                ],
                [
                  474,
                  2,
                  "GILLETTE",
                  "DUSTIN",
                  1
                ],
                [
                  475,
                  2,
                  "CHESTNUT",
                  "PEDRO",
                  1
                ],
                [
                  476,
                  1,
                  "BOURQUE",
                  "DERRICK",
                  1
                ],
                [
                  477,
                  1,
                  "PAINE",
                  "DAN",
                  1
                ],
                [
                  478,
                  1,
                  "LYMAN",
                  "LEWIS",
                  1
                ],
                [
                  479,
                  1,
                  "HITE",
                  "ZACHARY",
                  1
                ],
                [
                  480,
                  1,
                  "HAUSER",
                  "COREY",
                  1
                ],
                [
                  481,
                  1,
                  "DEVORE",
                  "HERMAN",
                  1
                ],
                [
                  482,
                  1,
                  "CRAWLEY",
                  "MAURICE",
                  0
                ],
                [
                  483,
                  2,
                  "CHAPA",
                  "VERNON",
                  1
                ],
                [
                  484,
                  1,
                  "VU",
                  "ROBERTO",
                  1
                ],
                [
                  485,
                  1,
                  "TOBIAS",
                  "CLYDE",
                  1
                ],
                [
                  486,
                  1,
                  "TALBERT",
                  "GLEN",
                  1
                ],
                [
                  487,
                  2,
                  "POINDEXTER",
                  "HECTOR",
                  1
                ],
                [
                  488,
                  2,
                  "MILLARD",
                  "SHANE",
                  1
                ],
                [
                  489,
                  1,
                  "MEADOR",
                  "RICARDO",
                  1
                ],
                [
                  490,
                  1,
                  "MCDUFFIE",
                  "SAM",
                  1
                ],
                [
                  491,
                  2,
                  "MATTOX",
                  "RICK",
                  1
                ],
                [
                  492,
                  2,
                  "KRAUS",
                  "LESTER",
                  1
                ],
                [
                  493,
                  1,
                  "HARKINS",
                  "BRENT",
                  1
                ],
                [
                  494,
                  2,
                  "CHOATE",
                  "RAMON",
                  1
                ],
                [
                  495,
                  2,
                  "BESS",
                  "CHARLIE",
                  1
                ],
                [
                  496,
                  2,
                  "WREN",
                  "TYLER",
                  1
                ],
                [
                  497,
                  2,
                  "SLEDGE",
                  "GILBERT",
                  1
                ],
                [
                  498,
                  1,
                  "SANBORN",
                  "GENE",
                  1
                ],
                [
                  499,
                  2,
                  "OUTLAW",
                  "MARC",
                  1
                ],
                [
                  500,
                  1,
                  "KINDER",
                  "REGINALD",
                  1
                ],
                [
                  501,
                  1,
                  "GEARY",
                  "RUBEN",
                  1
                ],
                [
                  502,
                  1,
                  "CORNWELL",
                  "BRETT",
                  1
                ],
                [
                  503,
                  1,
                  "BARCLAY",
                  "ANGEL",
                  1
                ],
                [
                  504,
                  1,
                  "ADAM",
                  "NATHANIEL",
                  1
                ],
                [
                  505,
                  1,
                  "ABNEY",
                  "RAFAEL",
                  1
                ],
                [
                  506,
                  2,
                  "SEWARD",
                  "LESLIE",
                  1
                ],
                [
                  507,
                  2,
                  "RHOADS",
                  "EDGAR",
                  1
                ],
                [
                  508,
                  2,
                  "HOWLAND",
                  "MILTON",
                  1
                ],
                [
                  509,
                  1,
                  "FORTIER",
                  "RAUL",
                  1
                ],
                [
                  510,
                  2,
                  "EASTER",
                  "BEN",
                  0
                ],
                [
                  511,
                  1,
                  "BENNER",
                  "CHESTER",
                  1
                ],
                [
                  512,
                  1,
                  "VINES",
                  "CECIL",
                  1
                ],
                [
                  513,
                  2,
                  "TUBBS",
                  "DUANE",
                  1
                ],
                [
                  514,
                  2,
                  "TROUTMAN",
                  "FRANKLIN",
                  1
                ],
                [
                  515,
                  1,
                  "RAPP",
                  "ANDRE",
                  1
                ],
                [
                  516,
                  2,
                  "NOE",
                  "ELMER",
                  1
                ],
                [
                  517,
                  2,
                  "MCCURDY",
                  "BRAD",
                  1
                ],
                [
                  518,
                  1,
                  "HARDER",
                  "GABRIEL",
                  1
                ],
                [
                  519,
                  2,
                  "DELUCA",
                  "RON",
                  1
                ],
                [
                  520,
                  2,
                  "WESTMORELAND",
                  "MITCHELL",
                  1
                ],
                [
                  521,
                  2,
                  "SOUTH",
                  "ROLAND",
                  1
                ],
                [
                  522,
                  2,
                  "HAVENS",
                  "ARNOLD",
                  1
                ],
                [
                  523,
                  1,
                  "GUAJARDO",
                  "HARVEY",
                  1
                ],
                [
                  524,
                  1,
                  "ELY",
                  "JARED",
                  1
                ],
                [
                  525,
                  2,
                  "CLARY",
                  "ADRIAN",
                  1
                ],
                [
                  526,
                  2,
                  "SEAL",
                  "KARL",
                  1
                ],
                [
                  527,
                  1,
                  "MEEHAN",
                  "CORY",
                  1
                ],
                [
                  528,
                  1,
                  "HERZOG",
                  "CLAUDE",
                  1
                ],
                [
                  529,
                  2,
                  "GUILLEN",
                  "ERIK",
                  1
                ],
                [
                  530,
                  2,
                  "ASHCRAFT",
                  "DARRYL",
                  1
                ],
                [
                  531,
                  2,
                  "WAUGH",
                  "JAMIE",
                  1
                ],
                [
                  532,
                  2,
                  "RENNER",
                  "NEIL",
                  1
                ],
                [
                  533,
                  1,
                  "MILAM",
                  "JESSIE",
                  1
                ],
                [
                  534,
                  1,
                  "JUNG",
                  "CHRISTIAN",
                  0
                ],
                [
                  535,
                  1,
                  "ELROD",
                  "JAVIER",
                  1
                ],
                [
                  536,
                  2,
                  "CHURCHILL",
                  "FERNANDO",
                  1
                ],
                [
                  537,
                  2,
                  "BUFORD",
                  "CLINTON",
                  1
                ],
                [
                  538,
                  2,
                  "BREAUX",
                  "TED",
                  1
                ],
                [
                  539,
                  1,
                  "BOLIN",
                  "MATHEW",
                  1
                ],
                [
                  540,
                  1,
                  "ASHER",
                  "TYRONE",
                  1
                ],
                [
                  541,
                  2,
                  "WINDHAM",
                  "DARREN",
                  1
                ],
                [
                  542,
                  2,
                  "TIRADO",
                  "LONNIE",
                  1
                ],
                [
                  543,
                  1,
                  "PEMBERTON",
                  "LANCE",
                  1
                ],
                [
                  544,
                  2,
                  "NOLEN",
                  "CODY",
                  1
                ],
                [
                  545,
                  2,
                  "NOLAND",
                  "JULIO",
                  1
                ],
                [
                  546,
                  1,
                  "KNOTT",
                  "KELLY",
                  1
                ],
                [
                  547,
                  1,
                  "EMMONS",
                  "KURT",
                  1
                ],
                [
                  548,
                  1,
                  "CORNISH",
                  "ALLAN",
                  1
                ],
                [
                  549,
                  1,
                  "CHRISTENSON",
                  "NELSON",
                  1
                ],
                [
                  550,
                  2,
                  "BROWNLEE",
                  "GUY",
                  1
                ],
                [
                  551,
                  2,
                  "BARBEE",
                  "CLAYTON",
                  1
                ],
                [
                  552,
                  2,
                  "WALDROP",
                  "HUGH",
                  1
                ],
                [
                  553,
                  1,
                  "PITT",
                  "MAX",
                  1
                ],
                [
                  554,
                  1,
                  "OLVERA",
                  "DWAYNE",
                  1
                ],
                [
                  555,
                  1,
                  "LOMBARDI",
                  "DWIGHT",
                  1
                ],
                [
                  556,
                  2,
                  "GRUBER",
                  "ARMANDO",
                  1
                ],
                [
                  557,
                  1,
                  "GAFFNEY",
                  "FELIX",
                  1
                ],
                [
                  558,
                  1,
                  "EGGLESTON",
                  "JIMMIE",
                  0
                ],
                [
                  559,
                  2,
                  "BANDA",
                  "EVERETT",
                  1
                ],
                [
                  560,
                  1,
                  "ARCHULETA",
                  "JORDAN",
                  1
                ],
                [
                  561,
                  2,
                  "STILL",
                  "IAN",
                  1
                ],
                [
                  562,
                  1,
                  "SLONE",
                  "WALLACE",
                  1
                ],
                [
                  563,
                  2,
                  "PREWITT",
                  "KEN",
                  1
                ],
                [
                  564,
                  2,
                  "PFEIFFER",
                  "BOB",
                  1
                ],
                [
                  565,
                  2,
                  "NETTLES",
                  "JAIME",
                  1
                ],
                [
                  566,
                  1,
                  "MENA",
                  "CASEY",
                  1
                ],
                [
                  567,
                  2,
                  "MCADAMS",
                  "ALFREDO",
                  1
                ],
                [
                  568,
                  2,
                  "HENNING",
                  "ALBERTO",
                  1
                ],
                [
                  569,
                  2,
                  "GARDINER",
                  "DAVE",
                  1
                ],
                [
                  570,
                  2,
                  "CROMWELL",
                  "IVAN",
                  1
                ],
                [
                  571,
                  2,
                  "CHISHOLM",
                  "JOHNNIE",
                  1
                ],
                [
                  572,
                  1,
                  "BURLESON",
                  "SIDNEY",
                  1
                ],
                [
                  573,
                  1,
                  "BOX",
                  "BYRON",
                  1
                ],
                [
                  574,
                  2,
                  "VEST",
                  "JULIAN",
                  1
                ],
                [
                  575,
                  2,
                  "OGLESBY",
                  "ISAAC",
                  1
                ],
                [
                  576,
                  2,
                  "MCCARTER",
                  "MORRIS",
                  1
                ],
                [
                  577,
                  2,
                  "MALCOLM",
                  "CLIFTON",
                  1
                ],
                [
                  578,
                  2,
                  "LUMPKIN",
                  "WILLARD",
                  1
                ],
                [
                  579,
                  2,
                  "LARUE",
                  "DARYL",
                  1
                ],
                [
                  580,
                  1,
                  "GREY",
                  "ROSS",
                  1
                ],
                [
                  581,
                  1,
                  "WOFFORD",
                  "VIRGIL",
                  1
                ],
                [
                  582,
                  2,
                  "VANHORN",
                  "ANDY",
                  1
                ],
                [
                  583,
                  1,
                  "THORN",
                  "MARSHALL",
                  1
                ],
                [
                  584,
                  2,
                  "TEEL",
                  "SALVADOR",
                  1
                ],
                [
                  585,
                  1,
                  "SWAFFORD",
                  "PERRY",
                  1
                ],
                [
                  586,
                  1,
                  "STCLAIR",
                  "KIRK",
                  1
                ],
                [
                  587,
                  1,
                  "STANFIELD",
                  "SERGIO",
                  1
                ],
                [
                  588,
                  1,
                  "OCAMPO",
                  "MARION",
                  1
                ],
                [
                  589,
                  1,
                  "HERRMANN",
                  "TRACY",
                  1
                ],
                [
                  590,
                  2,
                  "HANNON",
                  "SETH",
                  1
                ],
                [
                  591,
                  1,
                  "ARSENAULT",
                  "KENT",
                  1
                ],
                [
                  592,
                  1,
                  "ROUSH",
                  "TERRANCE",
                  0
                ],
                [
                  593,
                  2,
                  "MCALISTER",
                  "RENE",
                  1
                ],
                [
                  594,
                  1,
                  "HIATT",
                  "EDUARDO",
                  1
                ],
                [
                  595,
                  1,
                  "GUNDERSON",
                  "TERRENCE",
                  1
                ],
                [
                  596,
                  1,
                  "FORSYTHE",
                  "ENRIQUE",
                  1
                ],
                [
                  597,
                  1,
                  "DUGGAN",
                  "FREDDIE",
                  1
                ],
                [
                  598,
                  1,
                  "DELVALLE",
                  "WADE",
                  1
                ],
                [
                  599,
                  2,
                  "CINTRON",
                  "AUSTIN",
                  1
                ]
              ],
              "datasetInfos": [
                {
                  "name": "df_customer",
                  "schema": {
                    "fields": [
                      {
                        "metadata": {},
                        "name": "customer_id",
                        "nullable": true,
                        "type": "integer"
                      },
                      {
                        "metadata": {},
                        "name": "store_id",
                        "nullable": true,
                        "type": "integer"
                      },
                      {
                        "metadata": {},
                        "name": "last_name",
                        "nullable": true,
                        "type": "string"
                      },
                      {
                        "metadata": {},
                        "name": "first_name",
                        "nullable": true,
                        "type": "string"
                      },
                      {
                        "metadata": {},
                        "name": "active",
                        "nullable": true,
                        "type": "integer"
                      }
                    ],
                    "type": "struct"
                  },
                  "tableIdentifier": null,
                  "typeStr": "org.apache.spark.sql.DataFrame"
                }
              ],
              "dbfsResultPath": null,
              "isJsonSchema": true,
              "metadata": {},
              "overflow": false,
              "plotOptions": {
                "customPlotOptions": {},
                "displayType": "table",
                "pivotAggregation": null,
                "pivotColumns": null,
                "xColumns": null,
                "yColumns": null
              },
              "removedWidgets": [],
              "schema": [
                {
                  "metadata": "{}",
                  "name": "customer_id",
                  "type": "\"integer\""
                },
                {
                  "metadata": "{}",
                  "name": "store_id",
                  "type": "\"integer\""
                },
                {
                  "metadata": "{}",
                  "name": "last_name",
                  "type": "\"string\""
                },
                {
                  "metadata": "{}",
                  "name": "first_name",
                  "type": "\"string\""
                },
                {
                  "metadata": "{}",
                  "name": "active",
                  "type": "\"integer\""
                }
              ],
              "type": "table"
            }
          }
        }
      ],
      "source": [
        "%scala\n",
        "import com.mongodb.spark._\n",
        "\n",
        "val df_film= spark.read.format(\"com.mongodb.spark.sql.DefaultSource\")\n",
        ".option(\"database\", \"sakila\").option(\"collection\", \"film\").option(\"uri\", atlas_uri).load()\n",
        "\n",
        "#display(df_film)"
      ]
    },
    {
      "cell_type": "code",
      "execution_count": null,
      "metadata": {
        "application/vnd.databricks.v1+cell": {
          "cellMetadata": {
            "byteLimit": 2048000,
            "rowLimit": 10000
          },
          "inputWidgets": {},
          "nuid": "cb4550c7-d73c-4970-b0ba-f0169ef3ae71",
          "showTitle": false,
          "title": ""
        },
        "id": "y1Oc9XoKzPIc",
        "outputId": "99e4b3d2-dfff-4d6b-f18c-ce87ee35bc00"
      },
      "outputs": [
        {
          "output_type": "display_data",
          "data": {
            "text/html": [
              "<style scoped>\n",
              "  .ansiout {\n",
              "    display: block;\n",
              "    unicode-bidi: embed;\n",
              "    white-space: pre-wrap;\n",
              "    word-wrap: break-word;\n",
              "    word-break: break-all;\n",
              "    font-family: \"Source Code Pro\", \"Menlo\", monospace;;\n",
              "    font-size: 13px;\n",
              "    color: #555;\n",
              "    margin-left: 4px;\n",
              "    line-height: 19px;\n",
              "  }\n",
              "</style>\n",
              "<div class=\"ansiout\">root\n",
              "-- customer_id: integer (nullable = true)\n",
              "-- store_id: integer (nullable = true)\n",
              "-- last_name: string (nullable = true)\n",
              "-- first_name: string (nullable = true)\n",
              "-- active: integer (nullable = true)\n",
              "\n",
              "</div>"
            ]
          },
          "metadata": {
            "application/vnd.databricks.v1+output": {
              "addedWidgets": {},
              "arguments": {},
              "data": "<div class=\"ansiout\">root\n |-- customer_id: integer (nullable = true)\n |-- store_id: integer (nullable = true)\n |-- last_name: string (nullable = true)\n |-- first_name: string (nullable = true)\n |-- active: integer (nullable = true)\n\n</div>",
              "datasetInfos": [],
              "metadata": {
                "isDbfsCommandResult": false
              },
              "removedWidgets": [],
              "type": "html"
            }
          }
        }
      ],
      "source": [
        "%scala\n",
        "df_customer.printSchema()"
      ]
    },
    {
      "cell_type": "code",
      "execution_count": null,
      "metadata": {
        "application/vnd.databricks.v1+cell": {
          "cellMetadata": {
            "byteLimit": 2048000,
            "rowLimit": 10000
          },
          "inputWidgets": {},
          "nuid": "d5e54126-97af-4e2d-85c3-1fa99f7a539e",
          "showTitle": false,
          "title": ""
        },
        "id": "hf4noUtqzPId",
        "outputId": "4b58dd85-9ad8-4d7b-9e25-df987e947bd8"
      },
      "outputs": [
        {
          "output_type": "display_data",
          "data": {
            "text/html": [
              "<style scoped>\n",
              "  .ansiout {\n",
              "    display: block;\n",
              "    unicode-bidi: embed;\n",
              "    white-space: pre-wrap;\n",
              "    word-wrap: break-word;\n",
              "    word-break: break-all;\n",
              "    font-family: \"Source Code Pro\", \"Menlo\", monospace;;\n",
              "    font-size: 13px;\n",
              "    color: #555;\n",
              "    margin-left: 4px;\n",
              "    line-height: 19px;\n",
              "  }\n",
              "</style>\n",
              "<div class=\"ansiout\"></div>"
            ]
          },
          "metadata": {
            "application/vnd.databricks.v1+output": {
              "addedWidgets": {},
              "arguments": {},
              "data": "<div class=\"ansiout\"></div>",
              "datasetInfos": [],
              "metadata": {
                "isDbfsCommandResult": false
              },
              "removedWidgets": [],
              "type": "html"
            }
          }
        }
      ],
      "source": [
        "%scala\n",
        "df_film.write.format(\"delta\").mode(\"overwrite\").saveAsTable(\"sakila_dlh.film\")"
      ]
    },
    {
      "cell_type": "code",
      "execution_count": null,
      "metadata": {
        "application/vnd.databricks.v1+cell": {
          "cellMetadata": {
            "byteLimit": 2048000,
            "implicitDf": true,
            "rowLimit": 10000
          },
          "inputWidgets": {},
          "nuid": "072d473f-a9cc-4dcd-bb91-9e986bac1334",
          "showTitle": false,
          "title": ""
        },
        "id": "VReZTmi3zPIe"
      },
      "outputs": [],
      "source": [
        "%sql\n",
        "SELECT * FROM sakila_dlh.film LIMIT 5"
      ]
    },
    {
      "cell_type": "markdown",
      "source": [
        "### Fetch Data from a File System - Using PySpark to read info from a CSV"
      ],
      "metadata": {
        "id": "FUrdcpknFDlp"
      }
    },
    {
      "cell_type": "code",
      "source": [
        "#fetch the rentals table\n",
        "\n",
        "rental_csv = f\"{batch_dir}/sakila_rental.csv\"\n",
        "\n",
        "df_rental = spark.read.format('csv').options(header = 'true', inferSchema = 'true').load(rental_csv)\n",
        "display(df_rental)"
      ],
      "metadata": {
        "id": "st9g4KBOFQCW"
      },
      "execution_count": null,
      "outputs": []
    },
    {
      "cell_type": "code",
      "execution_count": null,
      "metadata": {
        "application/vnd.databricks.v1+cell": {
          "cellMetadata": {
            "byteLimit": 2048000,
            "rowLimit": 10000
          },
          "inputWidgets": {},
          "nuid": "60268b12-ded3-4f03-91ca-9fb2b2dba6a7",
          "showTitle": false,
          "title": ""
        },
        "id": "D_6rwjD1zPIf",
        "outputId": "62979d6d-b714-4fd6-ddb3-d4e2be83c38e"
      },
      "outputs": [
        {
          "output_type": "display_data",
          "data": {
            "text/html": [
              "<style scoped>\n",
              "  .ansiout {\n",
              "    display: block;\n",
              "    unicode-bidi: embed;\n",
              "    white-space: pre-wrap;\n",
              "    word-wrap: break-word;\n",
              "    word-break: break-all;\n",
              "    font-family: \"Source Code Pro\", \"Menlo\", monospace;;\n",
              "    font-size: 13px;\n",
              "    color: #555;\n",
              "    margin-left: 4px;\n",
              "    line-height: 19px;\n",
              "  }\n",
              "</style>\n",
              "<div class=\"ansiout\">root\n",
              "-- payment_id: integer (nullable = true)\n",
              "-- customer_id: integer (nullable = true)\n",
              "-- rental_id: integer (nullable = true)\n",
              "-- amount: double (nullable = true)\n",
              "-- payment_date: string (nullable = true)\n",
              "\n",
              "</div>"
            ]
          },
          "metadata": {
            "application/vnd.databricks.v1+output": {
              "addedWidgets": {},
              "arguments": {},
              "data": "<div class=\"ansiout\">root\n |-- payment_id: integer (nullable = true)\n |-- customer_id: integer (nullable = true)\n |-- rental_id: integer (nullable = true)\n |-- amount: double (nullable = true)\n |-- payment_date: string (nullable = true)\n\n</div>",
              "datasetInfos": [],
              "metadata": {
                "isDbfsCommandResult": false
              },
              "removedWidgets": [],
              "type": "html"
            }
          }
        }
      ],
      "source": [
        "%scala\n",
        "df_rental.printSchema()"
      ]
    },
    {
      "cell_type": "code",
      "source": [
        "df_rental.write.format('delta').mode('overwrite').saveAsTable('sakila_dlh.rental')"
      ],
      "metadata": {
        "id": "xb6E96RnOtyG"
      },
      "execution_count": null,
      "outputs": []
    },
    {
      "cell_type": "code",
      "execution_count": null,
      "metadata": {
        "application/vnd.databricks.v1+cell": {
          "cellMetadata": {
            "byteLimit": 2048000,
            "rowLimit": 10000
          },
          "inputWidgets": {},
          "nuid": "9bee9462-b41e-4da0-a788-ea07d485cf76",
          "showTitle": false,
          "title": ""
        },
        "id": "Gp3ln7rzzPIe"
      },
      "outputs": [],
      "source": [
        "%sql\n",
        "SELECT * FROM sakila_dlh.rental LIMIT 5;"
      ]
    },
    {
      "cell_type": "code",
      "execution_count": null,
      "metadata": {
        "application/vnd.databricks.v1+cell": {
          "cellMetadata": {
            "byteLimit": 2048000,
            "rowLimit": 10000
          },
          "inputWidgets": {},
          "nuid": "c8abfe05-4d87-496f-a0fa-c0c1a376d82a",
          "showTitle": false,
          "title": ""
        },
        "id": "UbnHn1yFzPIg",
        "outputId": "ea4e5680-9c4a-44d0-86ff-523c08679c52"
      },
      "outputs": [
        {
          "output_type": "display_data",
          "data": {
            "text/html": [
              "<style scoped>\n",
              "  .ansiout {\n",
              "    display: block;\n",
              "    unicode-bidi: embed;\n",
              "    white-space: pre-wrap;\n",
              "    word-wrap: break-word;\n",
              "    word-break: break-all;\n",
              "    font-family: \"Source Code Pro\", \"Menlo\", monospace;;\n",
              "    font-size: 13px;\n",
              "    color: #555;\n",
              "    margin-left: 4px;\n",
              "    line-height: 19px;\n",
              "  }\n",
              "</style>\n",
              "<div class=\"ansiout\"></div>"
            ]
          },
          "metadata": {
            "application/vnd.databricks.v1+output": {
              "addedWidgets": {},
              "arguments": {},
              "data": "<div class=\"ansiout\"></div>",
              "datasetInfos": [],
              "metadata": {
                "isDbfsCommandResult": false
              },
              "removedWidgets": [],
              "type": "html"
            }
          }
        }
      ],
      "source": [
        "df_rental.write.format('delta').mode('overwrite').saveAsTable('sakila_dlh.rental')"
      ]
    },
    {
      "cell_type": "code",
      "source": [
        "%sql\n",
        "SELECT * FROM sakila_dlh.rental LIMIT 5;"
      ],
      "metadata": {
        "id": "3P5zC4JXFhNF"
      },
      "execution_count": null,
      "outputs": []
    },
    {
      "cell_type": "code",
      "execution_count": null,
      "metadata": {
        "application/vnd.databricks.v1+cell": {
          "cellMetadata": {
            "byteLimit": 2048000,
            "implicitDf": true,
            "rowLimit": 10000
          },
          "inputWidgets": {},
          "nuid": "2fd1aa05-f3f6-4bcf-b3ee-4553f94c3751",
          "showTitle": false,
          "title": ""
        },
        "id": "HUJEgr0rzPIg"
      },
      "outputs": [],
      "source": [
        "#fetch the fact orders table\n",
        "\n",
        "fact_orders_csv = f\"{batch_dir}/sakila_fact_table.csv\"\n",
        "\n",
        "df_fact_orders = spark.read.format('csv').options(header = 'true', inferSchema = 'true').load(fact_orders_csv)\n",
        "display(df_fact_orders)"
      ]
    },
    {
      "cell_type": "code",
      "source": [
        "df_fact_orders.write.format('delta').mode('overwrite').saveAsTable('sakila_dlh.fact_orders')"
      ],
      "metadata": {
        "id": "CGgmhVVzPO6R"
      },
      "execution_count": null,
      "outputs": []
    },
    {
      "cell_type": "code",
      "execution_count": null,
      "metadata": {
        "application/vnd.databricks.v1+cell": {
          "cellMetadata": {
            "byteLimit": 2048000,
            "implicitDf": true,
            "rowLimit": 10000
          },
          "inputWidgets": {},
          "nuid": "6f03b602-e990-410f-b954-1889095bb995",
          "showTitle": false,
          "title": ""
        },
        "id": "DsvCC1L_zPIh",
        "outputId": "38839b84-062f-4b35-d228-07657d2f5243",
        "collapsed": true
      },
      "outputs": [
        {
          "output_type": "display_data",
          "data": {
            "text/html": [
              "<style scoped>\n",
              "  .table-result-container {\n",
              "    max-height: 300px;\n",
              "    overflow: auto;\n",
              "  }\n",
              "  table, th, td {\n",
              "    border: 1px solid black;\n",
              "    border-collapse: collapse;\n",
              "  }\n",
              "  th, td {\n",
              "    padding: 5px;\n",
              "  }\n",
              "  th {\n",
              "    text-align: left;\n",
              "  }\n",
              "</style><div class='table-result-container'><table class='table-result'><thead style='background-color: white'><tr><th>payment_id</th><th>customer_id</th><th>rental_id</th><th>amount</th><th>payment_date</th></tr></thead><tbody><tr><td>1</td><td>1</td><td>76</td><td>2.99</td><td>2005-05-25 11:30:37</td></tr><tr><td>2</td><td>1</td><td>573</td><td>0.99</td><td>2005-05-28 10:35:23</td></tr><tr><td>3</td><td>1</td><td>1185</td><td>5.99</td><td>2005-06-15 00:54:12</td></tr><tr><td>4</td><td>1</td><td>1422</td><td>0.99</td><td>2005-06-15 18:02:53</td></tr><tr><td>5</td><td>1</td><td>1476</td><td>9.99</td><td>2005-06-15 21:08:46</td></tr></tbody></table></div>"
            ]
          },
          "metadata": {
            "application/vnd.databricks.v1+output": {
              "addedWidgets": {},
              "aggData": [],
              "aggError": "",
              "aggOverflow": false,
              "aggSchema": [],
              "aggSeriesLimitReached": false,
              "aggType": "",
              "arguments": {},
              "columnCustomDisplayInfos": {},
              "data": [
                [
                  1,
                  1,
                  76,
                  2.99,
                  "2005-05-25 11:30:37"
                ],
                [
                  2,
                  1,
                  573,
                  0.99,
                  "2005-05-28 10:35:23"
                ],
                [
                  3,
                  1,
                  1185,
                  5.99,
                  "2005-06-15 00:54:12"
                ],
                [
                  4,
                  1,
                  1422,
                  0.99,
                  "2005-06-15 18:02:53"
                ],
                [
                  5,
                  1,
                  1476,
                  9.99,
                  "2005-06-15 21:08:46"
                ]
              ],
              "datasetInfos": [],
              "dbfsResultPath": null,
              "isJsonSchema": true,
              "metadata": {},
              "overflow": false,
              "plotOptions": {
                "customPlotOptions": {},
                "displayType": "table",
                "pivotAggregation": null,
                "pivotColumns": null,
                "xColumns": null,
                "yColumns": null
              },
              "removedWidgets": [],
              "schema": [
                {
                  "metadata": "{}",
                  "name": "payment_id",
                  "type": "\"integer\""
                },
                {
                  "metadata": "{}",
                  "name": "customer_id",
                  "type": "\"integer\""
                },
                {
                  "metadata": "{}",
                  "name": "rental_id",
                  "type": "\"integer\""
                },
                {
                  "metadata": "{}",
                  "name": "amount",
                  "type": "\"double\""
                },
                {
                  "metadata": "{}",
                  "name": "payment_date",
                  "type": "\"string\""
                }
              ],
              "type": "table"
            }
          }
        }
      ],
      "source": [
        "%sql\n",
        "SELECT * FROM sakila_dlh.rental LIMIT 5;"
      ]
    },
    {
      "cell_type": "markdown",
      "source": [
        "Verify the tables exist:\n",
        "\n"
      ],
      "metadata": {
        "id": "4EVYtAZy33Om"
      }
    },
    {
      "cell_type": "code",
      "execution_count": null,
      "metadata": {
        "application/vnd.databricks.v1+cell": {
          "cellMetadata": {
            "byteLimit": 2048000,
            "rowLimit": 10000
          },
          "inputWidgets": {},
          "nuid": "a3914b52-b2a4-4675-93e6-1c2c2b52eee5",
          "showTitle": false,
          "title": ""
        },
        "id": "RBGcuL35zPIi"
      },
      "outputs": [],
      "source": [
        "%sql\n",
        "USE sakila_dlh;\n",
        "SHOW TABLES"
      ]
    },
    {
      "cell_type": "markdown",
      "source": [
        "### Integrate Reference Data with Real-Time Data\n",
        "using sakila.payment as the current streaming table"
      ],
      "metadata": {
        "id": "SX7sFjrHPd6N"
      }
    },
    {
      "cell_type": "markdown",
      "source": [
        "bronze table"
      ],
      "metadata": {
        "id": "8NbIdLj_PrIx"
      }
    },
    {
      "cell_type": "code",
      "execution_count": null,
      "metadata": {
        "application/vnd.databricks.v1+cell": {
          "cellMetadata": {
            "byteLimit": 2048000,
            "rowLimit": 10000
          },
          "inputWidgets": {},
          "nuid": "226585a8-34fc-48e5-8e91-eae7d1d7cb09",
          "showTitle": false,
          "title": ""
        },
        "id": "aQJCzwzLzPIj",
        "outputId": "498cb121-868a-466a-c389-38e1bb7749c8"
      },
      "outputs": [
        {
          "output_type": "display_data",
          "data": {
            "text/html": [
              "<style scoped>\n",
              "  .ansiout {\n",
              "    display: block;\n",
              "    unicode-bidi: embed;\n",
              "    white-space: pre-wrap;\n",
              "    word-wrap: break-word;\n",
              "    word-break: break-all;\n",
              "    font-family: \"Source Code Pro\", \"Menlo\", monospace;;\n",
              "    font-size: 13px;\n",
              "    color: #555;\n",
              "    margin-left: 4px;\n",
              "    line-height: 19px;\n",
              "  }\n",
              "</style>\n",
              "<div class=\"ansiout\">root\n",
              "-- rental_id: integer (nullable = true)\n",
              "-- rental_date: string (nullable = true)\n",
              "-- inventory_id: integer (nullable = true)\n",
              "-- customer_id: integer (nullable = true)\n",
              "-- return_date: string (nullable = true)\n",
              "-- staff_id: integer (nullable = true)\n",
              "\n",
              "</div>"
            ]
          },
          "metadata": {
            "application/vnd.databricks.v1+output": {
              "addedWidgets": {},
              "arguments": {},
              "data": "<div class=\"ansiout\">root\n |-- rental_id: integer (nullable = true)\n |-- rental_date: string (nullable = true)\n |-- inventory_id: integer (nullable = true)\n |-- customer_id: integer (nullable = true)\n |-- return_date: string (nullable = true)\n |-- staff_id: integer (nullable = true)\n\n</div>",
              "datasetInfos": [],
              "metadata": {
                "isDbfsCommandResult": false
              },
              "removedWidgets": [],
              "type": "html"
            }
          }
        }
      ],
      "source": [
        "%scala\n",
        "df_rental.printSchema()"
      ]
    },
    {
      "cell_type": "code",
      "execution_count": null,
      "metadata": {
        "application/vnd.databricks.v1+cell": {
          "cellMetadata": {
            "byteLimit": 2048000,
            "implicitDf": true,
            "rowLimit": 10000
          },
          "inputWidgets": {},
          "nuid": "5209dde8-4f06-4e1d-b470-d9f98977f15b",
          "showTitle": false,
          "title": ""
        },
        "id": "fA71m9zBzPIk"
      },
      "outputs": [],
      "source": [
        "(spark.readStream\n",
        " .format(\"cloudFiles\")\n",
        " .option(\"cloudFiles.format\", \"json\")\n",
        " .option(\"cloudFiles.schemaHints\", \"payment_id \")\n",
        " .option(\"cloudFiles.schemaHints\", \"customer_id BIGINT\")\n",
        " .option(\"cloudFiles.schemaHints\", \"staff_id BIGINT\")\n",
        " .option(\"cloudFiles.schemaHints\", \"rental BIGINT\")\n",
        " .option(\"cloudFiles.schemaHints\", \"amount DECIMAL\")\n",
        " .option(\"cloudFiles.schemaLocation\", payment_output_bronze)\n",
        " .option(\"cloudFiles.inferColumnTypes\", \"true\")\n",
        " .option(\"multiLine\", \"true\")\n",
        " .load(payment_stream_dir)\n",
        " .createOrReplaceTempView(\"payment_raw_tempview\"))"
      ]
    },
    {
      "cell_type": "code",
      "execution_count": null,
      "metadata": {
        "application/vnd.databricks.v1+cell": {
          "cellMetadata": {
            "byteLimit": 2048000,
            "implicitDf": true,
            "rowLimit": 10000
          },
          "inputWidgets": {},
          "nuid": "ab512dca-dfcb-48e7-b95f-74efd993c019",
          "showTitle": false,
          "title": ""
        },
        "id": "AtbM-JAXzPIl"
      },
      "outputs": [],
      "source": [
        "%sql\n",
        "/* Add Metadata for Traceability */\n",
        "CREATE OR REPLACE TEMPORARY VIEW payment_output_bronze AS (\n",
        "  SELECT *, current_timestamp() receipt_time, input_file_name() source_file\n",
        "  FROM payment_raw_tempview\n",
        ")"
      ]
    },
    {
      "cell_type": "code",
      "source": [
        "%sql\n",
        "SELECT * FROM payment_output_bronze LIMIT 2"
      ],
      "metadata": {
        "id": "NS4SpmYNPykU"
      },
      "execution_count": null,
      "outputs": []
    },
    {
      "cell_type": "code",
      "source": [
        "(spark.table(\"payment_output_bronze\")\n",
        "      .writeStream\n",
        "      .format(\"delta\")\n",
        "      .option(\"checkpointLocation\", f\"{payment_output_bronze}/_checkpoint\")\n",
        "      .outputMode(\"append\")\n",
        "      .table(\"fact_orders_bronze\"))"
      ],
      "metadata": {
        "id": "NfbtfueMP10R"
      },
      "execution_count": null,
      "outputs": []
    },
    {
      "cell_type": "code",
      "source": [
        "%sql\n",
        "SELECT * FROM fact_orders_bronze LIMIT 2"
      ],
      "metadata": {
        "id": "rc5NyxFPP4Rv"
      },
      "execution_count": null,
      "outputs": []
    },
    {
      "cell_type": "markdown",
      "source": [
        "silver table"
      ],
      "metadata": {
        "id": "4yb_j0V8P5ko"
      }
    },
    {
      "cell_type": "code",
      "source": [
        "(spark.readStream\n",
        "  .table(\"fact_orders_bronze\")\n",
        "  .createOrReplaceTempView(\"fact_orders_silver_tempview\"))"
      ],
      "metadata": {
        "id": "cNzE7mN_P6_0"
      },
      "execution_count": null,
      "outputs": []
    },
    {
      "cell_type": "code",
      "source": [
        "%sql\n",
        "SELECT * FROM fact_orders_silver_tempview LIMIT 2;"
      ],
      "metadata": {
        "id": "oTIK8kVkQm3-"
      },
      "execution_count": null,
      "outputs": []
    },
    {
      "cell_type": "code",
      "source": [
        "%sql\n",
        "-- joining together\n",
        "CREATE OR REPLACE TEMPORARY VIEW cust_pay AS(\n",
        "SELECT c.customer_id,\n",
        "c.store_id,\n",
        "c.first_name,\n",
        "c.last_name,\n",
        "c.email,\n",
        "--payment\n",
        "p.payment_id,\n",
        "p.amount,\n",
        "p.last_update,\n",
        "p.rental_id,\n",
        "p.staff_id,\n",
        "p.source_file,\n",
        "--rental\n",
        "r.inventory_id,\n",
        "-- inventory\n",
        "i.film_id,\n",
        "--film\n",
        "f.description,\n",
        "f.length,\n",
        "f.rating,\n",
        "f.release_year,\n",
        "f.title,\n",
        "f.rental_rate\n",
        "FROM sakila_dlh.customer AS c\n",
        "JOIN fact_orders_silver_tempview AS p\n",
        "ON c.customer_id = p.customer_id\n",
        "JOIN sakila_dlh.rental AS r\n",
        "ON r.rental_id = p.rental_id\n",
        "JOIN sakila_dlh.inventory AS i\n",
        "ON r.inventory_id = i.inventory_id\n",
        "JOIN sakila_dlh.film AS f\n",
        "ON f.film_id = i.film_id\n",
        ")"
      ],
      "metadata": {
        "id": "MxRf0-8JQpQ7"
      },
      "execution_count": null,
      "outputs": []
    },
    {
      "cell_type": "code",
      "source": [
        "%sql\n",
        "SELECT * FROM cust_pay LIMIT 2"
      ],
      "metadata": {
        "id": "-PJP2oKuQtMN"
      },
      "execution_count": null,
      "outputs": []
    },
    {
      "cell_type": "code",
      "source": [
        "(spark.table(\"cust_pay\")\n",
        "      .writeStream\n",
        "      .format(\"delta\")\n",
        "      .option(\"checkpointLocation\", f\"{payment_output_silver}/_checkpoint\")\n",
        "      .outputMode(\"append\")\n",
        "      .table(\"fact_inventory_transactions_silver\"))"
      ],
      "metadata": {
        "id": "tt4gnW64Qxdu"
      },
      "execution_count": null,
      "outputs": []
    },
    {
      "cell_type": "code",
      "source": [
        "%sql\n",
        "SELECT * FROM fact_inventory_transactions_silver LIMIT 2"
      ],
      "metadata": {
        "id": "BU56duMdQy4P"
      },
      "execution_count": null,
      "outputs": []
    },
    {
      "cell_type": "markdown",
      "source": [
        "gold table - data table aggregations"
      ],
      "metadata": {
        "id": "bCyCeLaDQ6Mc"
      }
    },
    {
      "cell_type": "code",
      "source": [
        "%sql\n",
        "SELECT release_year AS movie_release_year\n",
        "    , rating AS movie_rating\n",
        "    , AVG(rental_rate) AS average_rental_rate\n",
        "FROM sakila_dlh.fact_inventory_transactions_silver\n",
        "GROUP BY movie_release_year, movie_rating\n",
        "ORDER BY movie_release_year DESC"
      ],
      "metadata": {
        "id": "rlWIx_MkQ8dB"
      },
      "execution_count": null,
      "outputs": []
    }
  ],
  "metadata": {
    "application/vnd.databricks.v1+notebook": {
      "dashboards": [],
      "language": "python",
      "notebookMetadata": {
        "mostRecentlyExecutedCommandWithImplicitDF": {
          "commandId": 4487735954651135,
          "dataframes": [
            "_sqldf"
          ]
        },
        "pythonIndentUnit": 4
      },
      "notebookName": "DS Final",
      "notebookOrigID": 1151243473239626,
      "widgets": {}
    },
    "colab": {
      "provenance": []
    }
  },
  "nbformat": 4,
  "nbformat_minor": 0
}